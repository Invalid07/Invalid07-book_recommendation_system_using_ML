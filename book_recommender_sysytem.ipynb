{
 "cells": [
  {
   "cell_type": "code",
   "execution_count": 1,
   "id": "15d58100",
   "metadata": {},
   "outputs": [],
   "source": [
    "import pandas  as pd\n",
    "import numpy as np \n",
    "import matplotlib.pyplot as plt"
   ]
  },
  {
   "cell_type": "code",
   "execution_count": 2,
   "id": "2a77cadb",
   "metadata": {},
   "outputs": [],
   "source": [
    "import seaborn as sns "
   ]
  },
  {
   "cell_type": "markdown",
   "id": "bbf4f13b",
   "metadata": {},
   "source": [
    "# importing book data set"
   ]
  },
  {
   "cell_type": "code",
   "execution_count": 4,
   "id": "ad4101ac",
   "metadata": {},
   "outputs": [
    {
     "name": "stderr",
     "output_type": "stream",
     "text": [
      "C:\\Users\\Vikas\\AppData\\Local\\Temp\\ipykernel_13020\\2281759398.py:1: DtypeWarning: Columns (3) have mixed types. Specify dtype option on import or set low_memory=False.\n",
      "  book=pd.read_csv(r'C:\\Users\\Vikas\\jupyter book\\ex_files\\BOOK\\BX-Books.csv', sep=';',on_bad_lines='skip', encoding='latin-1' )\n"
     ]
    }
   ],
   "source": [
    "book=pd.read_csv(r'C:\\Users\\Vikas\\jupyter book\\ex_files\\BOOK\\BX-Books.csv', sep=';',on_bad_lines='skip', encoding='latin-1' )"
   ]
  },
  {
   "cell_type": "code",
   "execution_count": 83,
   "id": "06731a0c",
   "metadata": {},
   "outputs": [
    {
     "data": {
      "text/html": [
       "<div>\n",
       "<style scoped>\n",
       "    .dataframe tbody tr th:only-of-type {\n",
       "        vertical-align: middle;\n",
       "    }\n",
       "\n",
       "    .dataframe tbody tr th {\n",
       "        vertical-align: top;\n",
       "    }\n",
       "\n",
       "    .dataframe thead th {\n",
       "        text-align: right;\n",
       "    }\n",
       "</style>\n",
       "<table border=\"1\" class=\"dataframe\">\n",
       "  <thead>\n",
       "    <tr style=\"text-align: right;\">\n",
       "      <th></th>\n",
       "      <th>ISBN</th>\n",
       "      <th>Book-Title</th>\n",
       "      <th>Book-Author</th>\n",
       "      <th>Year-Of-Publication</th>\n",
       "      <th>Publisher</th>\n",
       "      <th>Image-URL-S</th>\n",
       "      <th>Image-URL-M</th>\n",
       "      <th>Image-URL-L</th>\n",
       "    </tr>\n",
       "  </thead>\n",
       "  <tbody>\n",
       "    <tr>\n",
       "      <th>0</th>\n",
       "      <td>0195153448</td>\n",
       "      <td>Classical Mythology</td>\n",
       "      <td>Mark P. O. Morford</td>\n",
       "      <td>2002</td>\n",
       "      <td>Oxford University Press</td>\n",
       "      <td>http://images.amazon.com/images/P/0195153448.0...</td>\n",
       "      <td>http://images.amazon.com/images/P/0195153448.0...</td>\n",
       "      <td>http://images.amazon.com/images/P/0195153448.0...</td>\n",
       "    </tr>\n",
       "    <tr>\n",
       "      <th>1</th>\n",
       "      <td>0002005018</td>\n",
       "      <td>Clara Callan</td>\n",
       "      <td>Richard Bruce Wright</td>\n",
       "      <td>2001</td>\n",
       "      <td>HarperFlamingo Canada</td>\n",
       "      <td>http://images.amazon.com/images/P/0002005018.0...</td>\n",
       "      <td>http://images.amazon.com/images/P/0002005018.0...</td>\n",
       "      <td>http://images.amazon.com/images/P/0002005018.0...</td>\n",
       "    </tr>\n",
       "    <tr>\n",
       "      <th>2</th>\n",
       "      <td>0060973129</td>\n",
       "      <td>Decision in Normandy</td>\n",
       "      <td>Carlo D'Este</td>\n",
       "      <td>1991</td>\n",
       "      <td>HarperPerennial</td>\n",
       "      <td>http://images.amazon.com/images/P/0060973129.0...</td>\n",
       "      <td>http://images.amazon.com/images/P/0060973129.0...</td>\n",
       "      <td>http://images.amazon.com/images/P/0060973129.0...</td>\n",
       "    </tr>\n",
       "  </tbody>\n",
       "</table>\n",
       "</div>"
      ],
      "text/plain": [
       "         ISBN            Book-Title           Book-Author Year-Of-Publication  \\\n",
       "0  0195153448   Classical Mythology    Mark P. O. Morford                2002   \n",
       "1  0002005018          Clara Callan  Richard Bruce Wright                2001   \n",
       "2  0060973129  Decision in Normandy          Carlo D'Este                1991   \n",
       "\n",
       "                 Publisher                                        Image-URL-S  \\\n",
       "0  Oxford University Press  http://images.amazon.com/images/P/0195153448.0...   \n",
       "1    HarperFlamingo Canada  http://images.amazon.com/images/P/0002005018.0...   \n",
       "2          HarperPerennial  http://images.amazon.com/images/P/0060973129.0...   \n",
       "\n",
       "                                         Image-URL-M  \\\n",
       "0  http://images.amazon.com/images/P/0195153448.0...   \n",
       "1  http://images.amazon.com/images/P/0002005018.0...   \n",
       "2  http://images.amazon.com/images/P/0060973129.0...   \n",
       "\n",
       "                                         Image-URL-L  \n",
       "0  http://images.amazon.com/images/P/0195153448.0...  \n",
       "1  http://images.amazon.com/images/P/0002005018.0...  \n",
       "2  http://images.amazon.com/images/P/0060973129.0...  "
      ]
     },
     "execution_count": 83,
     "metadata": {},
     "output_type": "execute_result"
    }
   ],
   "source": [
    "book.head(3)\n"
   ]
  },
  {
   "cell_type": "code",
   "execution_count": 6,
   "id": "3fa6af26",
   "metadata": {},
   "outputs": [
    {
     "data": {
      "text/plain": [
       "Index(['ISBN', 'Book-Title', 'Book-Author', 'Year-Of-Publication', 'Publisher',\n",
       "       'Image-URL-S', 'Image-URL-M', 'Image-URL-L'],\n",
       "      dtype='object')"
      ]
     },
     "execution_count": 6,
     "metadata": {},
     "output_type": "execute_result"
    }
   ],
   "source": [
    "book.columns"
   ]
  },
  {
   "cell_type": "code",
   "execution_count": 7,
   "id": "52dca90a",
   "metadata": {},
   "outputs": [],
   "source": [
    "books=book[['ISBN', 'Book-Title', 'Book-Author', 'Year-Of-Publication', 'Publisher',\n",
    "           'Image-URL-L']]"
   ]
  },
  {
   "cell_type": "code",
   "execution_count": 8,
   "id": "9e161989",
   "metadata": {},
   "outputs": [
    {
     "data": {
      "text/html": [
       "<div>\n",
       "<style scoped>\n",
       "    .dataframe tbody tr th:only-of-type {\n",
       "        vertical-align: middle;\n",
       "    }\n",
       "\n",
       "    .dataframe tbody tr th {\n",
       "        vertical-align: top;\n",
       "    }\n",
       "\n",
       "    .dataframe thead th {\n",
       "        text-align: right;\n",
       "    }\n",
       "</style>\n",
       "<table border=\"1\" class=\"dataframe\">\n",
       "  <thead>\n",
       "    <tr style=\"text-align: right;\">\n",
       "      <th></th>\n",
       "      <th>ISBN</th>\n",
       "      <th>Book-Title</th>\n",
       "      <th>Book-Author</th>\n",
       "      <th>Year-Of-Publication</th>\n",
       "      <th>Publisher</th>\n",
       "      <th>Image-URL-L</th>\n",
       "    </tr>\n",
       "  </thead>\n",
       "  <tbody>\n",
       "    <tr>\n",
       "      <th>0</th>\n",
       "      <td>0195153448</td>\n",
       "      <td>Classical Mythology</td>\n",
       "      <td>Mark P. O. Morford</td>\n",
       "      <td>2002</td>\n",
       "      <td>Oxford University Press</td>\n",
       "      <td>http://images.amazon.com/images/P/0195153448.0...</td>\n",
       "    </tr>\n",
       "    <tr>\n",
       "      <th>1</th>\n",
       "      <td>0002005018</td>\n",
       "      <td>Clara Callan</td>\n",
       "      <td>Richard Bruce Wright</td>\n",
       "      <td>2001</td>\n",
       "      <td>HarperFlamingo Canada</td>\n",
       "      <td>http://images.amazon.com/images/P/0002005018.0...</td>\n",
       "    </tr>\n",
       "  </tbody>\n",
       "</table>\n",
       "</div>"
      ],
      "text/plain": [
       "         ISBN           Book-Title           Book-Author Year-Of-Publication  \\\n",
       "0  0195153448  Classical Mythology    Mark P. O. Morford                2002   \n",
       "1  0002005018         Clara Callan  Richard Bruce Wright                2001   \n",
       "\n",
       "                 Publisher                                        Image-URL-L  \n",
       "0  Oxford University Press  http://images.amazon.com/images/P/0195153448.0...  \n",
       "1    HarperFlamingo Canada  http://images.amazon.com/images/P/0002005018.0...  "
      ]
     },
     "execution_count": 8,
     "metadata": {},
     "output_type": "execute_result"
    }
   ],
   "source": [
    "books.head(2)"
   ]
  },
  {
   "cell_type": "code",
   "execution_count": 9,
   "id": "fc9fbd5e",
   "metadata": {},
   "outputs": [
    {
     "name": "stderr",
     "output_type": "stream",
     "text": [
      "C:\\Users\\Vikas\\AppData\\Local\\Temp\\ipykernel_13020\\3329918380.py:2: SettingWithCopyWarning: \n",
      "A value is trying to be set on a copy of a slice from a DataFrame\n",
      "\n",
      "See the caveats in the documentation: https://pandas.pydata.org/pandas-docs/stable/user_guide/indexing.html#returning-a-view-versus-a-copy\n",
      "  books.rename(columns={\n"
     ]
    }
   ],
   "source": [
    "# renaming the index\n",
    "books.rename(columns={\n",
    "    \"Book-Title\":\"Title\",\n",
    "    \"Book-Author\":\"Author\",\n",
    "    \"Year-Of-Publication\":\"Year\",\n",
    "    \"Image-URL-L\":\"img_url\"},inplace=True\n",
    "    )"
   ]
  },
  {
   "cell_type": "code",
   "execution_count": 10,
   "id": "e02d5b3a",
   "metadata": {},
   "outputs": [
    {
     "data": {
      "text/plain": [
       "RangeIndex(start=0, stop=271360, step=1)"
      ]
     },
     "execution_count": 10,
     "metadata": {},
     "output_type": "execute_result"
    }
   ],
   "source": [
    "books[books==\"24 Hours\"].index"
   ]
  },
  {
   "cell_type": "code",
   "execution_count": null,
   "id": "8739ead1",
   "metadata": {},
   "outputs": [],
   "source": []
  },
  {
   "cell_type": "code",
   "execution_count": null,
   "id": "e5f47c8c",
   "metadata": {},
   "outputs": [],
   "source": []
  },
  {
   "cell_type": "code",
   "execution_count": null,
   "id": "25e44939",
   "metadata": {},
   "outputs": [],
   "source": []
  },
  {
   "cell_type": "code",
   "execution_count": null,
   "id": "d8923e6a",
   "metadata": {},
   "outputs": [],
   "source": []
  },
  {
   "cell_type": "markdown",
   "id": "80731a87",
   "metadata": {},
   "source": [
    "# import user  datset"
   ]
  },
  {
   "cell_type": "code",
   "execution_count": 12,
   "id": "2fca4263",
   "metadata": {},
   "outputs": [],
   "source": [
    "users=pd.read_csv(r\"C:\\Users\\Vikas\\jupyter book\\ex_files\\BOOK\\BX-Users.csv\",sep=';',on_bad_lines='skip',encoding='latin-1')"
   ]
  },
  {
   "cell_type": "code",
   "execution_count": 13,
   "id": "c2783a28",
   "metadata": {},
   "outputs": [
    {
     "data": {
      "text/html": [
       "<div>\n",
       "<style scoped>\n",
       "    .dataframe tbody tr th:only-of-type {\n",
       "        vertical-align: middle;\n",
       "    }\n",
       "\n",
       "    .dataframe tbody tr th {\n",
       "        vertical-align: top;\n",
       "    }\n",
       "\n",
       "    .dataframe thead th {\n",
       "        text-align: right;\n",
       "    }\n",
       "</style>\n",
       "<table border=\"1\" class=\"dataframe\">\n",
       "  <thead>\n",
       "    <tr style=\"text-align: right;\">\n",
       "      <th></th>\n",
       "      <th>User-ID</th>\n",
       "      <th>Location</th>\n",
       "      <th>Age</th>\n",
       "    </tr>\n",
       "  </thead>\n",
       "  <tbody>\n",
       "    <tr>\n",
       "      <th>0</th>\n",
       "      <td>1</td>\n",
       "      <td>nyc, new york, usa</td>\n",
       "      <td>NaN</td>\n",
       "    </tr>\n",
       "    <tr>\n",
       "      <th>1</th>\n",
       "      <td>2</td>\n",
       "      <td>stockton, california, usa</td>\n",
       "      <td>18.0</td>\n",
       "    </tr>\n",
       "    <tr>\n",
       "      <th>2</th>\n",
       "      <td>3</td>\n",
       "      <td>moscow, yukon territory, russia</td>\n",
       "      <td>NaN</td>\n",
       "    </tr>\n",
       "  </tbody>\n",
       "</table>\n",
       "</div>"
      ],
      "text/plain": [
       "   User-ID                         Location   Age\n",
       "0        1               nyc, new york, usa   NaN\n",
       "1        2        stockton, california, usa  18.0\n",
       "2        3  moscow, yukon territory, russia   NaN"
      ]
     },
     "execution_count": 13,
     "metadata": {},
     "output_type": "execute_result"
    }
   ],
   "source": [
    "users.head((3))"
   ]
  },
  {
   "cell_type": "code",
   "execution_count": 14,
   "id": "0d71c05a",
   "metadata": {},
   "outputs": [
    {
     "data": {
      "text/plain": [
       "array([ nan,  18.,  17.,  61.,  26.,  14.,  25.,  19.,  46.,  55.,  32.,\n",
       "        24.,  20.,  34.,  23.,  51.,  31.,  21.,  44.,  30.,  57.,  43.,\n",
       "        37.,  41.,  54.,  42.,  50.,  39.,  53.,  47.,  36.,  28.,  35.,\n",
       "        13.,  58.,  49.,  38.,  45.,  62.,  63.,  27.,  33.,  29.,  66.,\n",
       "        40.,  15.,  60.,   0.,  79.,  22.,  16.,  65.,  59.,  48.,  72.,\n",
       "        56.,  67.,   1.,  80.,  52.,  69.,  71.,  73.,  78.,   9.,  64.,\n",
       "       103., 104.,  12.,  74.,  75., 231.,   3.,  76.,  83.,  68., 119.,\n",
       "        11.,  77.,   2.,  70.,  93.,   8.,   7.,   4.,  81., 114., 230.,\n",
       "       239.,  10.,   5., 148., 151.,   6., 101., 201.,  96.,  84.,  82.,\n",
       "        90., 123., 244., 133.,  91., 128.,  94.,  85., 141., 110.,  97.,\n",
       "       219.,  86., 124.,  92., 175., 172., 209., 212., 237.,  87., 162.,\n",
       "       100., 156., 136.,  95.,  89., 106.,  99., 108., 210.,  88., 199.,\n",
       "       147., 168., 132., 159., 186., 152., 102., 116., 200., 115., 226.,\n",
       "       137., 207., 229., 138., 109., 105., 228., 183., 204.,  98., 223.,\n",
       "       113., 208., 107., 157., 111., 146., 118., 220., 143., 140., 189.,\n",
       "       127.])"
      ]
     },
     "execution_count": 14,
     "metadata": {},
     "output_type": "execute_result"
    }
   ],
   "source": [
    "users['Age'].unique()"
   ]
  },
  {
   "cell_type": "code",
   "execution_count": 15,
   "id": "c8e0da16",
   "metadata": {},
   "outputs": [
    {
     "data": {
      "text/plain": [
       "array(['nyc, new york, usa', 'stockton, california, usa',\n",
       "       'moscow, yukon territory, russia', ...,\n",
       "       'sergnano, lombardia, italy', 'stranraer, n/a, united kingdom',\n",
       "       'tacoma, washington, united kingdom'], dtype=object)"
      ]
     },
     "execution_count": 15,
     "metadata": {},
     "output_type": "execute_result"
    }
   ],
   "source": [
    "users['Location'].unique()"
   ]
  },
  {
   "cell_type": "code",
   "execution_count": null,
   "id": "e07b5f54",
   "metadata": {},
   "outputs": [],
   "source": []
  },
  {
   "cell_type": "code",
   "execution_count": null,
   "id": "cf70346c",
   "metadata": {},
   "outputs": [],
   "source": []
  },
  {
   "cell_type": "code",
   "execution_count": null,
   "id": "6f778aa2",
   "metadata": {},
   "outputs": [],
   "source": []
  },
  {
   "cell_type": "markdown",
   "id": "99d1737f",
   "metadata": {},
   "source": [
    "# import rating  dataset"
   ]
  },
  {
   "cell_type": "code",
   "execution_count": 17,
   "id": "88f77b6d",
   "metadata": {},
   "outputs": [],
   "source": [
    "rating=pd.read_csv(r\"C:\\Users\\Vikas\\jupyter book\\ex_files\\BOOK\\BX-Book-Ratings.csv\",sep=';',on_bad_lines='skip',encoding='latin-1')"
   ]
  },
  {
   "cell_type": "code",
   "execution_count": 18,
   "id": "f2b57bb0",
   "metadata": {},
   "outputs": [
    {
     "data": {
      "text/html": [
       "<div>\n",
       "<style scoped>\n",
       "    .dataframe tbody tr th:only-of-type {\n",
       "        vertical-align: middle;\n",
       "    }\n",
       "\n",
       "    .dataframe tbody tr th {\n",
       "        vertical-align: top;\n",
       "    }\n",
       "\n",
       "    .dataframe thead th {\n",
       "        text-align: right;\n",
       "    }\n",
       "</style>\n",
       "<table border=\"1\" class=\"dataframe\">\n",
       "  <thead>\n",
       "    <tr style=\"text-align: right;\">\n",
       "      <th></th>\n",
       "      <th>User-ID</th>\n",
       "      <th>ISBN</th>\n",
       "      <th>Book-Rating</th>\n",
       "    </tr>\n",
       "  </thead>\n",
       "  <tbody>\n",
       "    <tr>\n",
       "      <th>0</th>\n",
       "      <td>276725</td>\n",
       "      <td>034545104X</td>\n",
       "      <td>0</td>\n",
       "    </tr>\n",
       "    <tr>\n",
       "      <th>1</th>\n",
       "      <td>276726</td>\n",
       "      <td>0155061224</td>\n",
       "      <td>5</td>\n",
       "    </tr>\n",
       "    <tr>\n",
       "      <th>2</th>\n",
       "      <td>276727</td>\n",
       "      <td>0446520802</td>\n",
       "      <td>0</td>\n",
       "    </tr>\n",
       "  </tbody>\n",
       "</table>\n",
       "</div>"
      ],
      "text/plain": [
       "   User-ID        ISBN  Book-Rating\n",
       "0   276725  034545104X            0\n",
       "1   276726  0155061224            5\n",
       "2   276727  0446520802            0"
      ]
     },
     "execution_count": 18,
     "metadata": {},
     "output_type": "execute_result"
    }
   ],
   "source": [
    "rating.head(3)"
   ]
  },
  {
   "cell_type": "code",
   "execution_count": 19,
   "id": "46068ad8",
   "metadata": {},
   "outputs": [],
   "source": [
    "rating.rename(columns={\n",
    "    \"User-ID\":\"user-id\",\n",
    "    \"Book-Rating\":\"rating\"},inplace=True)"
   ]
  },
  {
   "cell_type": "code",
   "execution_count": 20,
   "id": "a206e839",
   "metadata": {},
   "outputs": [
    {
     "data": {
      "text/plain": [
       "(1149780, 3)"
      ]
     },
     "execution_count": 20,
     "metadata": {},
     "output_type": "execute_result"
    }
   ],
   "source": [
    "rating.shape"
   ]
  },
  {
   "cell_type": "code",
   "execution_count": 21,
   "id": "c79fae98",
   "metadata": {},
   "outputs": [
    {
     "data": {
      "text/html": [
       "<div>\n",
       "<style scoped>\n",
       "    .dataframe tbody tr th:only-of-type {\n",
       "        vertical-align: middle;\n",
       "    }\n",
       "\n",
       "    .dataframe tbody tr th {\n",
       "        vertical-align: top;\n",
       "    }\n",
       "\n",
       "    .dataframe thead th {\n",
       "        text-align: right;\n",
       "    }\n",
       "</style>\n",
       "<table border=\"1\" class=\"dataframe\">\n",
       "  <thead>\n",
       "    <tr style=\"text-align: right;\">\n",
       "      <th></th>\n",
       "      <th>user-id</th>\n",
       "      <th>ISBN</th>\n",
       "      <th>rating</th>\n",
       "    </tr>\n",
       "  </thead>\n",
       "  <tbody>\n",
       "    <tr>\n",
       "      <th>0</th>\n",
       "      <td>276725</td>\n",
       "      <td>034545104X</td>\n",
       "      <td>0</td>\n",
       "    </tr>\n",
       "    <tr>\n",
       "      <th>1</th>\n",
       "      <td>276726</td>\n",
       "      <td>0155061224</td>\n",
       "      <td>5</td>\n",
       "    </tr>\n",
       "    <tr>\n",
       "      <th>2</th>\n",
       "      <td>276727</td>\n",
       "      <td>0446520802</td>\n",
       "      <td>0</td>\n",
       "    </tr>\n",
       "  </tbody>\n",
       "</table>\n",
       "</div>"
      ],
      "text/plain": [
       "   user-id        ISBN  rating\n",
       "0   276725  034545104X       0\n",
       "1   276726  0155061224       5\n",
       "2   276727  0446520802       0"
      ]
     },
     "execution_count": 21,
     "metadata": {},
     "output_type": "execute_result"
    }
   ],
   "source": [
    "rating.head(3)"
   ]
  },
  {
   "cell_type": "code",
   "execution_count": 22,
   "id": "a3816c76",
   "metadata": {},
   "outputs": [
    {
     "name": "stdout",
     "output_type": "stream",
     "text": [
      "(271360, 6)\n",
      "(278858, 3)\n",
      "(1149780, 3)\n"
     ]
    }
   ],
   "source": [
    "# lets check the shape of  data set \n",
    "print(books.shape)\n",
    "print(users.shape)\n",
    "print(rating.shape)"
   ]
  },
  {
   "cell_type": "code",
   "execution_count": null,
   "id": "24c5714a",
   "metadata": {},
   "outputs": [],
   "source": []
  },
  {
   "cell_type": "code",
   "execution_count": null,
   "id": "a072dcaf",
   "metadata": {},
   "outputs": [],
   "source": []
  },
  {
   "cell_type": "code",
   "execution_count": null,
   "id": "3b121c9c",
   "metadata": {},
   "outputs": [],
   "source": []
  },
  {
   "cell_type": "code",
   "execution_count": 23,
   "id": "b6ed76c5",
   "metadata": {},
   "outputs": [
    {
     "data": {
      "text/plain": [
       "user-id\n",
       "11676     13602\n",
       "198711     7550\n",
       "153662     6109\n",
       "98391      5891\n",
       "35859      5850\n",
       "          ...  \n",
       "116180        1\n",
       "116166        1\n",
       "116154        1\n",
       "116137        1\n",
       "276723        1\n",
       "Name: count, Length: 105283, dtype: int64"
      ]
     },
     "execution_count": 23,
     "metadata": {},
     "output_type": "execute_result"
    }
   ],
   "source": [
    " rating['user-id'].value_counts()"
   ]
  },
  {
   "cell_type": "code",
   "execution_count": 24,
   "id": "289eba07",
   "metadata": {},
   "outputs": [],
   "source": [
    "# there is more rating than so we have so we have to manage it "
   ]
  },
  {
   "cell_type": "code",
   "execution_count": 25,
   "id": "23f67b08",
   "metadata": {},
   "outputs": [
    {
     "data": {
      "text/plain": [
       "(105283,)"
      ]
     },
     "execution_count": 25,
     "metadata": {},
     "output_type": "execute_result"
    }
   ],
   "source": [
    "rating[\"user-id\"].unique().shape"
   ]
  },
  {
   "cell_type": "code",
   "execution_count": 26,
   "id": "172d88ec",
   "metadata": {},
   "outputs": [],
   "source": [
    "x=rating[\"user-id\"].value_counts() >200"
   ]
  },
  {
   "cell_type": "code",
   "execution_count": 86,
   "id": "a802bd60",
   "metadata": {},
   "outputs": [],
   "source": [
    "y=x[x].index"
   ]
  },
  {
   "cell_type": "code",
   "execution_count": 87,
   "id": "2b522b10",
   "metadata": {},
   "outputs": [
    {
     "data": {
      "text/plain": [
       "Index([ 11676, 198711, 153662,  98391,  35859, 212898, 278418,  76352, 110973,\n",
       "       235105,\n",
       "       ...\n",
       "       260183,  73681,  44296, 155916,   9856, 274808,  28634,  59727, 268622,\n",
       "       188951],\n",
       "      dtype='int64', name='user-id', length=899)"
      ]
     },
     "execution_count": 87,
     "metadata": {},
     "output_type": "execute_result"
    }
   ],
   "source": [
    "y"
   ]
  },
  {
   "cell_type": "code",
   "execution_count": 29,
   "id": "ba428fea",
   "metadata": {},
   "outputs": [],
   "source": [
    "rating=rating[rating['user-id'].isin(y)]"
   ]
  },
  {
   "cell_type": "code",
   "execution_count": 30,
   "id": "762c0863",
   "metadata": {},
   "outputs": [
    {
     "data": {
      "text/plain": [
       "(526356, 3)"
      ]
     },
     "execution_count": 30,
     "metadata": {},
     "output_type": "execute_result"
    }
   ],
   "source": [
    "rating.shape"
   ]
  },
  {
   "cell_type": "raw",
   "id": "d4b32880",
   "metadata": {},
   "source": []
  },
  {
   "cell_type": "code",
   "execution_count": 31,
   "id": "bb97b39b",
   "metadata": {},
   "outputs": [],
   "source": [
    "# marging with common column with isbn\n",
    "rating_with_book=rating.merge(books,on=\"ISBN\")"
   ]
  },
  {
   "cell_type": "code",
   "execution_count": 32,
   "id": "a20f564a",
   "metadata": {},
   "outputs": [
    {
     "data": {
      "text/plain": [
       "(487671, 8)"
      ]
     },
     "execution_count": 32,
     "metadata": {},
     "output_type": "execute_result"
    }
   ],
   "source": [
    "rating_with_book.shape"
   ]
  },
  {
   "cell_type": "code",
   "execution_count": 33,
   "id": "10376d10",
   "metadata": {},
   "outputs": [],
   "source": [
    "num_rating=rating_with_book.groupby(\"Title\")[\"rating\"].count().reset_index()"
   ]
  },
  {
   "cell_type": "code",
   "execution_count": 88,
   "id": "7b48df75",
   "metadata": {},
   "outputs": [
    {
     "data": {
      "text/html": [
       "<div>\n",
       "<style scoped>\n",
       "    .dataframe tbody tr th:only-of-type {\n",
       "        vertical-align: middle;\n",
       "    }\n",
       "\n",
       "    .dataframe tbody tr th {\n",
       "        vertical-align: top;\n",
       "    }\n",
       "\n",
       "    .dataframe thead th {\n",
       "        text-align: right;\n",
       "    }\n",
       "</style>\n",
       "<table border=\"1\" class=\"dataframe\">\n",
       "  <thead>\n",
       "    <tr style=\"text-align: right;\">\n",
       "      <th></th>\n",
       "      <th>Title</th>\n",
       "      <th>num_of_rating</th>\n",
       "    </tr>\n",
       "  </thead>\n",
       "  <tbody>\n",
       "    <tr>\n",
       "      <th>0</th>\n",
       "      <td>A Light in the Storm: The Civil War Diary of ...</td>\n",
       "      <td>2</td>\n",
       "    </tr>\n",
       "    <tr>\n",
       "      <th>1</th>\n",
       "      <td>Always Have Popsicles</td>\n",
       "      <td>1</td>\n",
       "    </tr>\n",
       "    <tr>\n",
       "      <th>2</th>\n",
       "      <td>Apple Magic (The Collector's series)</td>\n",
       "      <td>1</td>\n",
       "    </tr>\n",
       "    <tr>\n",
       "      <th>3</th>\n",
       "      <td>Beyond IBM: Leadership Marketing and Finance ...</td>\n",
       "      <td>1</td>\n",
       "    </tr>\n",
       "    <tr>\n",
       "      <th>4</th>\n",
       "      <td>Clifford Visita El Hospital (Clifford El Gran...</td>\n",
       "      <td>1</td>\n",
       "    </tr>\n",
       "    <tr>\n",
       "      <th>...</th>\n",
       "      <td>...</td>\n",
       "      <td>...</td>\n",
       "    </tr>\n",
       "    <tr>\n",
       "      <th>160264</th>\n",
       "      <td>Ã?Â?ber die Pflicht zum Ungehorsam gegen den S...</td>\n",
       "      <td>3</td>\n",
       "    </tr>\n",
       "    <tr>\n",
       "      <th>160265</th>\n",
       "      <td>Ã?Â?lpiraten.</td>\n",
       "      <td>1</td>\n",
       "    </tr>\n",
       "    <tr>\n",
       "      <th>160266</th>\n",
       "      <td>Ã?Â?rger mit Produkt X. Roman.</td>\n",
       "      <td>1</td>\n",
       "    </tr>\n",
       "    <tr>\n",
       "      <th>160267</th>\n",
       "      <td>Ã?Â?stlich der Berge.</td>\n",
       "      <td>1</td>\n",
       "    </tr>\n",
       "    <tr>\n",
       "      <th>160268</th>\n",
       "      <td>Ã?Â?thique en toc</td>\n",
       "      <td>1</td>\n",
       "    </tr>\n",
       "  </tbody>\n",
       "</table>\n",
       "<p>160269 rows × 2 columns</p>\n",
       "</div>"
      ],
      "text/plain": [
       "                                                    Title  num_of_rating\n",
       "0        A Light in the Storm: The Civil War Diary of ...              2\n",
       "1                                   Always Have Popsicles              1\n",
       "2                    Apple Magic (The Collector's series)              1\n",
       "3        Beyond IBM: Leadership Marketing and Finance ...              1\n",
       "4        Clifford Visita El Hospital (Clifford El Gran...              1\n",
       "...                                                   ...            ...\n",
       "160264  Ã?Â?ber die Pflicht zum Ungehorsam gegen den S...              3\n",
       "160265                                      Ã?Â?lpiraten.              1\n",
       "160266                     Ã?Â?rger mit Produkt X. Roman.              1\n",
       "160267                              Ã?Â?stlich der Berge.              1\n",
       "160268                                  Ã?Â?thique en toc              1\n",
       "\n",
       "[160269 rows x 2 columns]"
      ]
     },
     "execution_count": 88,
     "metadata": {},
     "output_type": "execute_result"
    }
   ],
   "source": [
    "num_rating"
   ]
  },
  {
   "cell_type": "code",
   "execution_count": 35,
   "id": "ae6f697e",
   "metadata": {},
   "outputs": [
    {
     "data": {
      "text/plain": [
       "(160269, 2)"
      ]
     },
     "execution_count": 35,
     "metadata": {},
     "output_type": "execute_result"
    }
   ],
   "source": [
    "num_rating.shape"
   ]
  },
  {
   "cell_type": "code",
   "execution_count": 36,
   "id": "19fcb205",
   "metadata": {},
   "outputs": [],
   "source": [
    "num_rating.rename(columns={\"rating\":\"num_of_rating\"},inplace=True)"
   ]
  },
  {
   "cell_type": "markdown",
   "id": "21f8f812",
   "metadata": {},
   "source": [
    "num_rating"
   ]
  },
  {
   "cell_type": "code",
   "execution_count": 37,
   "id": "edce28ea",
   "metadata": {},
   "outputs": [
    {
     "data": {
      "text/html": [
       "<div>\n",
       "<style scoped>\n",
       "    .dataframe tbody tr th:only-of-type {\n",
       "        vertical-align: middle;\n",
       "    }\n",
       "\n",
       "    .dataframe tbody tr th {\n",
       "        vertical-align: top;\n",
       "    }\n",
       "\n",
       "    .dataframe thead th {\n",
       "        text-align: right;\n",
       "    }\n",
       "</style>\n",
       "<table border=\"1\" class=\"dataframe\">\n",
       "  <thead>\n",
       "    <tr style=\"text-align: right;\">\n",
       "      <th></th>\n",
       "      <th>Title</th>\n",
       "      <th>num_of_rating</th>\n",
       "    </tr>\n",
       "  </thead>\n",
       "  <tbody>\n",
       "    <tr>\n",
       "      <th>0</th>\n",
       "      <td>A Light in the Storm: The Civil War Diary of ...</td>\n",
       "      <td>2</td>\n",
       "    </tr>\n",
       "    <tr>\n",
       "      <th>1</th>\n",
       "      <td>Always Have Popsicles</td>\n",
       "      <td>1</td>\n",
       "    </tr>\n",
       "    <tr>\n",
       "      <th>2</th>\n",
       "      <td>Apple Magic (The Collector's series)</td>\n",
       "      <td>1</td>\n",
       "    </tr>\n",
       "  </tbody>\n",
       "</table>\n",
       "</div>"
      ],
      "text/plain": [
       "                                               Title  num_of_rating\n",
       "0   A Light in the Storm: The Civil War Diary of ...              2\n",
       "1                              Always Have Popsicles              1\n",
       "2               Apple Magic (The Collector's series)              1"
      ]
     },
     "execution_count": 37,
     "metadata": {},
     "output_type": "execute_result"
    }
   ],
   "source": [
    "num_rating.head(3)"
   ]
  },
  {
   "cell_type": "code",
   "execution_count": 38,
   "id": "8c436daf",
   "metadata": {},
   "outputs": [],
   "source": [
    "# merge with common column with title\n",
    "final_rating=rating_with_book.merge(num_rating,on=\"Title\")"
   ]
  },
  {
   "cell_type": "code",
   "execution_count": 39,
   "id": "e2862588",
   "metadata": {},
   "outputs": [
    {
     "data": {
      "text/html": [
       "<div>\n",
       "<style scoped>\n",
       "    .dataframe tbody tr th:only-of-type {\n",
       "        vertical-align: middle;\n",
       "    }\n",
       "\n",
       "    .dataframe tbody tr th {\n",
       "        vertical-align: top;\n",
       "    }\n",
       "\n",
       "    .dataframe thead th {\n",
       "        text-align: right;\n",
       "    }\n",
       "</style>\n",
       "<table border=\"1\" class=\"dataframe\">\n",
       "  <thead>\n",
       "    <tr style=\"text-align: right;\">\n",
       "      <th></th>\n",
       "      <th>user-id</th>\n",
       "      <th>ISBN</th>\n",
       "      <th>rating</th>\n",
       "      <th>Title</th>\n",
       "      <th>Author</th>\n",
       "      <th>Year</th>\n",
       "      <th>Publisher</th>\n",
       "      <th>img_url</th>\n",
       "      <th>num_of_rating</th>\n",
       "    </tr>\n",
       "  </thead>\n",
       "  <tbody>\n",
       "    <tr>\n",
       "      <th>0</th>\n",
       "      <td>277427</td>\n",
       "      <td>002542730X</td>\n",
       "      <td>10</td>\n",
       "      <td>Politically Correct Bedtime Stories: Modern Ta...</td>\n",
       "      <td>James Finn Garner</td>\n",
       "      <td>1994</td>\n",
       "      <td>John Wiley &amp;amp; Sons Inc</td>\n",
       "      <td>http://images.amazon.com/images/P/002542730X.0...</td>\n",
       "      <td>82</td>\n",
       "    </tr>\n",
       "    <tr>\n",
       "      <th>1</th>\n",
       "      <td>3363</td>\n",
       "      <td>002542730X</td>\n",
       "      <td>0</td>\n",
       "      <td>Politically Correct Bedtime Stories: Modern Ta...</td>\n",
       "      <td>James Finn Garner</td>\n",
       "      <td>1994</td>\n",
       "      <td>John Wiley &amp;amp; Sons Inc</td>\n",
       "      <td>http://images.amazon.com/images/P/002542730X.0...</td>\n",
       "      <td>82</td>\n",
       "    </tr>\n",
       "    <tr>\n",
       "      <th>2</th>\n",
       "      <td>11676</td>\n",
       "      <td>002542730X</td>\n",
       "      <td>6</td>\n",
       "      <td>Politically Correct Bedtime Stories: Modern Ta...</td>\n",
       "      <td>James Finn Garner</td>\n",
       "      <td>1994</td>\n",
       "      <td>John Wiley &amp;amp; Sons Inc</td>\n",
       "      <td>http://images.amazon.com/images/P/002542730X.0...</td>\n",
       "      <td>82</td>\n",
       "    </tr>\n",
       "    <tr>\n",
       "      <th>3</th>\n",
       "      <td>12538</td>\n",
       "      <td>002542730X</td>\n",
       "      <td>10</td>\n",
       "      <td>Politically Correct Bedtime Stories: Modern Ta...</td>\n",
       "      <td>James Finn Garner</td>\n",
       "      <td>1994</td>\n",
       "      <td>John Wiley &amp;amp; Sons Inc</td>\n",
       "      <td>http://images.amazon.com/images/P/002542730X.0...</td>\n",
       "      <td>82</td>\n",
       "    </tr>\n",
       "    <tr>\n",
       "      <th>4</th>\n",
       "      <td>13552</td>\n",
       "      <td>002542730X</td>\n",
       "      <td>0</td>\n",
       "      <td>Politically Correct Bedtime Stories: Modern Ta...</td>\n",
       "      <td>James Finn Garner</td>\n",
       "      <td>1994</td>\n",
       "      <td>John Wiley &amp;amp; Sons Inc</td>\n",
       "      <td>http://images.amazon.com/images/P/002542730X.0...</td>\n",
       "      <td>82</td>\n",
       "    </tr>\n",
       "    <tr>\n",
       "      <th>...</th>\n",
       "      <td>...</td>\n",
       "      <td>...</td>\n",
       "      <td>...</td>\n",
       "      <td>...</td>\n",
       "      <td>...</td>\n",
       "      <td>...</td>\n",
       "      <td>...</td>\n",
       "      <td>...</td>\n",
       "      <td>...</td>\n",
       "    </tr>\n",
       "    <tr>\n",
       "      <th>487666</th>\n",
       "      <td>275970</td>\n",
       "      <td>1892145022</td>\n",
       "      <td>0</td>\n",
       "      <td>Here Is New York</td>\n",
       "      <td>E. B. White</td>\n",
       "      <td>1999</td>\n",
       "      <td>Little Bookroom</td>\n",
       "      <td>http://images.amazon.com/images/P/1892145022.0...</td>\n",
       "      <td>1</td>\n",
       "    </tr>\n",
       "    <tr>\n",
       "      <th>487667</th>\n",
       "      <td>275970</td>\n",
       "      <td>1931868123</td>\n",
       "      <td>0</td>\n",
       "      <td>There's a Porcupine in My Outhouse: Misadventu...</td>\n",
       "      <td>Mike Tougias</td>\n",
       "      <td>2002</td>\n",
       "      <td>Capital Books (VA)</td>\n",
       "      <td>http://images.amazon.com/images/P/1931868123.0...</td>\n",
       "      <td>1</td>\n",
       "    </tr>\n",
       "    <tr>\n",
       "      <th>487668</th>\n",
       "      <td>275970</td>\n",
       "      <td>3411086211</td>\n",
       "      <td>10</td>\n",
       "      <td>Die Biene.</td>\n",
       "      <td>Sybil GrÃ?Â¤fin SchÃ?Â¶nfeldt</td>\n",
       "      <td>1993</td>\n",
       "      <td>Bibliographisches Institut, Mannheim</td>\n",
       "      <td>http://images.amazon.com/images/P/3411086211.0...</td>\n",
       "      <td>1</td>\n",
       "    </tr>\n",
       "    <tr>\n",
       "      <th>487669</th>\n",
       "      <td>275970</td>\n",
       "      <td>3829021860</td>\n",
       "      <td>0</td>\n",
       "      <td>The Penis Book</td>\n",
       "      <td>Joseph Cohen</td>\n",
       "      <td>1999</td>\n",
       "      <td>Konemann</td>\n",
       "      <td>http://images.amazon.com/images/P/3829021860.0...</td>\n",
       "      <td>1</td>\n",
       "    </tr>\n",
       "    <tr>\n",
       "      <th>487670</th>\n",
       "      <td>275970</td>\n",
       "      <td>4770019572</td>\n",
       "      <td>0</td>\n",
       "      <td>Musashi</td>\n",
       "      <td>Eiji Yoshikawa</td>\n",
       "      <td>1995</td>\n",
       "      <td>Kodansha International (JPN)</td>\n",
       "      <td>http://images.amazon.com/images/P/4770019572.0...</td>\n",
       "      <td>1</td>\n",
       "    </tr>\n",
       "  </tbody>\n",
       "</table>\n",
       "<p>487671 rows × 9 columns</p>\n",
       "</div>"
      ],
      "text/plain": [
       "        user-id        ISBN  rating  \\\n",
       "0        277427  002542730X      10   \n",
       "1          3363  002542730X       0   \n",
       "2         11676  002542730X       6   \n",
       "3         12538  002542730X      10   \n",
       "4         13552  002542730X       0   \n",
       "...         ...         ...     ...   \n",
       "487666   275970  1892145022       0   \n",
       "487667   275970  1931868123       0   \n",
       "487668   275970  3411086211      10   \n",
       "487669   275970  3829021860       0   \n",
       "487670   275970  4770019572       0   \n",
       "\n",
       "                                                    Title  \\\n",
       "0       Politically Correct Bedtime Stories: Modern Ta...   \n",
       "1       Politically Correct Bedtime Stories: Modern Ta...   \n",
       "2       Politically Correct Bedtime Stories: Modern Ta...   \n",
       "3       Politically Correct Bedtime Stories: Modern Ta...   \n",
       "4       Politically Correct Bedtime Stories: Modern Ta...   \n",
       "...                                                   ...   \n",
       "487666                                   Here Is New York   \n",
       "487667  There's a Porcupine in My Outhouse: Misadventu...   \n",
       "487668                                         Die Biene.   \n",
       "487669                                     The Penis Book   \n",
       "487670                                            Musashi   \n",
       "\n",
       "                               Author  Year  \\\n",
       "0                   James Finn Garner  1994   \n",
       "1                   James Finn Garner  1994   \n",
       "2                   James Finn Garner  1994   \n",
       "3                   James Finn Garner  1994   \n",
       "4                   James Finn Garner  1994   \n",
       "...                               ...   ...   \n",
       "487666                    E. B. White  1999   \n",
       "487667                   Mike Tougias  2002   \n",
       "487668  Sybil GrÃ?Â¤fin SchÃ?Â¶nfeldt  1993   \n",
       "487669                   Joseph Cohen  1999   \n",
       "487670                 Eiji Yoshikawa  1995   \n",
       "\n",
       "                                   Publisher  \\\n",
       "0                  John Wiley &amp; Sons Inc   \n",
       "1                  John Wiley &amp; Sons Inc   \n",
       "2                  John Wiley &amp; Sons Inc   \n",
       "3                  John Wiley &amp; Sons Inc   \n",
       "4                  John Wiley &amp; Sons Inc   \n",
       "...                                      ...   \n",
       "487666                       Little Bookroom   \n",
       "487667                    Capital Books (VA)   \n",
       "487668  Bibliographisches Institut, Mannheim   \n",
       "487669                              Konemann   \n",
       "487670          Kodansha International (JPN)   \n",
       "\n",
       "                                                  img_url  num_of_rating  \n",
       "0       http://images.amazon.com/images/P/002542730X.0...             82  \n",
       "1       http://images.amazon.com/images/P/002542730X.0...             82  \n",
       "2       http://images.amazon.com/images/P/002542730X.0...             82  \n",
       "3       http://images.amazon.com/images/P/002542730X.0...             82  \n",
       "4       http://images.amazon.com/images/P/002542730X.0...             82  \n",
       "...                                                   ...            ...  \n",
       "487666  http://images.amazon.com/images/P/1892145022.0...              1  \n",
       "487667  http://images.amazon.com/images/P/1931868123.0...              1  \n",
       "487668  http://images.amazon.com/images/P/3411086211.0...              1  \n",
       "487669  http://images.amazon.com/images/P/3829021860.0...              1  \n",
       "487670  http://images.amazon.com/images/P/4770019572.0...              1  \n",
       "\n",
       "[487671 rows x 9 columns]"
      ]
     },
     "execution_count": 39,
     "metadata": {},
     "output_type": "execute_result"
    }
   ],
   "source": [
    "final_rating"
   ]
  },
  {
   "cell_type": "code",
   "execution_count": 40,
   "id": "830a2c31",
   "metadata": {},
   "outputs": [],
   "source": [
    "# taking rating above = 40 rating\n",
    "final_rating=final_rating[final_rating[\"num_of_rating\"]>=40]"
   ]
  },
  {
   "cell_type": "code",
   "execution_count": 41,
   "id": "7b6c1cac",
   "metadata": {},
   "outputs": [
    {
     "data": {
      "text/html": [
       "<div>\n",
       "<style scoped>\n",
       "    .dataframe tbody tr th:only-of-type {\n",
       "        vertical-align: middle;\n",
       "    }\n",
       "\n",
       "    .dataframe tbody tr th {\n",
       "        vertical-align: top;\n",
       "    }\n",
       "\n",
       "    .dataframe thead th {\n",
       "        text-align: right;\n",
       "    }\n",
       "</style>\n",
       "<table border=\"1\" class=\"dataframe\">\n",
       "  <thead>\n",
       "    <tr style=\"text-align: right;\">\n",
       "      <th></th>\n",
       "      <th>user-id</th>\n",
       "      <th>ISBN</th>\n",
       "      <th>rating</th>\n",
       "      <th>Title</th>\n",
       "      <th>Author</th>\n",
       "      <th>Year</th>\n",
       "      <th>Publisher</th>\n",
       "      <th>img_url</th>\n",
       "      <th>num_of_rating</th>\n",
       "    </tr>\n",
       "  </thead>\n",
       "  <tbody>\n",
       "    <tr>\n",
       "      <th>37075</th>\n",
       "      <td>150968</td>\n",
       "      <td>0446603309</td>\n",
       "      <td>0</td>\n",
       "      <td>The Witness</td>\n",
       "      <td>Sandra Brown</td>\n",
       "      <td>1996</td>\n",
       "      <td>Warner Books</td>\n",
       "      <td>http://images.amazon.com/images/P/0446603309.0...</td>\n",
       "      <td>55</td>\n",
       "    </tr>\n",
       "    <tr>\n",
       "      <th>7752</th>\n",
       "      <td>102967</td>\n",
       "      <td>0440241073</td>\n",
       "      <td>0</td>\n",
       "      <td>The Summons</td>\n",
       "      <td>John Grisham</td>\n",
       "      <td>2002</td>\n",
       "      <td>Dell Publishing Company</td>\n",
       "      <td>http://images.amazon.com/images/P/0440241073.0...</td>\n",
       "      <td>171</td>\n",
       "    </tr>\n",
       "    <tr>\n",
       "      <th>173604</th>\n",
       "      <td>107784</td>\n",
       "      <td>0446607711</td>\n",
       "      <td>0</td>\n",
       "      <td>The Simple Truth</td>\n",
       "      <td>David Baldacci</td>\n",
       "      <td>1999</td>\n",
       "      <td>Warner Books</td>\n",
       "      <td>http://images.amazon.com/images/P/0446607711.0...</td>\n",
       "      <td>85</td>\n",
       "    </tr>\n",
       "    <tr>\n",
       "      <th>58443</th>\n",
       "      <td>269566</td>\n",
       "      <td>0345303067</td>\n",
       "      <td>0</td>\n",
       "      <td>2010: Odyssey Two</td>\n",
       "      <td>Arthur C. Clarke</td>\n",
       "      <td>1984</td>\n",
       "      <td>Del Rey Books</td>\n",
       "      <td>http://images.amazon.com/images/P/0345303067.0...</td>\n",
       "      <td>47</td>\n",
       "    </tr>\n",
       "    <tr>\n",
       "      <th>31463</th>\n",
       "      <td>8245</td>\n",
       "      <td>0385722206</td>\n",
       "      <td>7</td>\n",
       "      <td>Balzac and the Little Chinese Seamstress : A N...</td>\n",
       "      <td>DAI SIJIE</td>\n",
       "      <td>2002</td>\n",
       "      <td>Anchor</td>\n",
       "      <td>http://images.amazon.com/images/P/0385722206.0...</td>\n",
       "      <td>111</td>\n",
       "    </tr>\n",
       "    <tr>\n",
       "      <th>86939</th>\n",
       "      <td>201017</td>\n",
       "      <td>0064471659</td>\n",
       "      <td>0</td>\n",
       "      <td>Harriet the Spy</td>\n",
       "      <td>Louise Fitzhugh</td>\n",
       "      <td>1996</td>\n",
       "      <td>HarperTrophy</td>\n",
       "      <td>http://images.amazon.com/images/P/0064471659.0...</td>\n",
       "      <td>43</td>\n",
       "    </tr>\n",
       "    <tr>\n",
       "      <th>8049</th>\n",
       "      <td>145619</td>\n",
       "      <td>0446350982</td>\n",
       "      <td>0</td>\n",
       "      <td>Presumed Innocent</td>\n",
       "      <td>Scott Turow</td>\n",
       "      <td>1988</td>\n",
       "      <td>Warner Books</td>\n",
       "      <td>http://images.amazon.com/images/P/0446350982.0...</td>\n",
       "      <td>149</td>\n",
       "    </tr>\n",
       "    <tr>\n",
       "      <th>30266</th>\n",
       "      <td>208406</td>\n",
       "      <td>0380727293</td>\n",
       "      <td>0</td>\n",
       "      <td>Dr. Atkins' New Diet Revolution</td>\n",
       "      <td>Robert C. Atkins</td>\n",
       "      <td>1997</td>\n",
       "      <td>Avon Books</td>\n",
       "      <td>http://images.amazon.com/images/P/0380727293.0...</td>\n",
       "      <td>53</td>\n",
       "    </tr>\n",
       "    <tr>\n",
       "      <th>113671</th>\n",
       "      <td>106225</td>\n",
       "      <td>0385511612</td>\n",
       "      <td>0</td>\n",
       "      <td>Bleachers</td>\n",
       "      <td>John Grisham</td>\n",
       "      <td>2003</td>\n",
       "      <td>Doubleday</td>\n",
       "      <td>http://images.amazon.com/images/P/0385511612.0...</td>\n",
       "      <td>53</td>\n",
       "    </tr>\n",
       "    <tr>\n",
       "      <th>77325</th>\n",
       "      <td>85426</td>\n",
       "      <td>0786881852</td>\n",
       "      <td>8</td>\n",
       "      <td>Don't Sweat the Small Stuff and It's All Small...</td>\n",
       "      <td>Richard Carlson</td>\n",
       "      <td>1997</td>\n",
       "      <td>Hyperion</td>\n",
       "      <td>http://images.amazon.com/images/P/0786881852.0...</td>\n",
       "      <td>90</td>\n",
       "    </tr>\n",
       "    <tr>\n",
       "      <th>2459</th>\n",
       "      <td>208671</td>\n",
       "      <td>0316776963</td>\n",
       "      <td>0</td>\n",
       "      <td>Me Talk Pretty One Day</td>\n",
       "      <td>David Sedaris</td>\n",
       "      <td>2001</td>\n",
       "      <td>Back Bay Books</td>\n",
       "      <td>http://images.amazon.com/images/P/0316776963.0...</td>\n",
       "      <td>146</td>\n",
       "    </tr>\n",
       "    <tr>\n",
       "      <th>185552</th>\n",
       "      <td>69355</td>\n",
       "      <td>067101420X</td>\n",
       "      <td>0</td>\n",
       "      <td>Forever... : A Novel of Good and Evil, Love an...</td>\n",
       "      <td>Jude Deveraux</td>\n",
       "      <td>2002</td>\n",
       "      <td>Pocket</td>\n",
       "      <td>http://images.amazon.com/images/P/067101420X.0...</td>\n",
       "      <td>55</td>\n",
       "    </tr>\n",
       "    <tr>\n",
       "      <th>37551</th>\n",
       "      <td>114414</td>\n",
       "      <td>0446676098</td>\n",
       "      <td>0</td>\n",
       "      <td>The Notebook</td>\n",
       "      <td>Nicholas Sparks</td>\n",
       "      <td>1999</td>\n",
       "      <td>Warner Books</td>\n",
       "      <td>http://images.amazon.com/images/P/0446676098.0...</td>\n",
       "      <td>241</td>\n",
       "    </tr>\n",
       "    <tr>\n",
       "      <th>43704</th>\n",
       "      <td>110912</td>\n",
       "      <td>0553580221</td>\n",
       "      <td>0</td>\n",
       "      <td>False Memory</td>\n",
       "      <td>Dean R. Koontz</td>\n",
       "      <td>2000</td>\n",
       "      <td>Bantam Books</td>\n",
       "      <td>http://images.amazon.com/images/P/0553580221.0...</td>\n",
       "      <td>86</td>\n",
       "    </tr>\n",
       "    <tr>\n",
       "      <th>104245</th>\n",
       "      <td>242646</td>\n",
       "      <td>044023672X</td>\n",
       "      <td>0</td>\n",
       "      <td>Answered Prayers</td>\n",
       "      <td>DANIELLE STEEL</td>\n",
       "      <td>2003</td>\n",
       "      <td>Dell</td>\n",
       "      <td>http://images.amazon.com/images/P/044023672X.0...</td>\n",
       "      <td>41</td>\n",
       "    </tr>\n",
       "    <tr>\n",
       "      <th>3738</th>\n",
       "      <td>235392</td>\n",
       "      <td>0380710218</td>\n",
       "      <td>5</td>\n",
       "      <td>Postmortem</td>\n",
       "      <td>Patricia Daniels Cornwell</td>\n",
       "      <td>1993</td>\n",
       "      <td>Harper Mass Market Paperbacks (Mm)</td>\n",
       "      <td>http://images.amazon.com/images/P/0380710218.0...</td>\n",
       "      <td>78</td>\n",
       "    </tr>\n",
       "    <tr>\n",
       "      <th>9651</th>\n",
       "      <td>81492</td>\n",
       "      <td>0515132020</td>\n",
       "      <td>0</td>\n",
       "      <td>Heaven and Earth (Three Sisters Island Trilogy)</td>\n",
       "      <td>Nora Roberts</td>\n",
       "      <td>2003</td>\n",
       "      <td>Jove Books</td>\n",
       "      <td>http://images.amazon.com/images/P/0515132020.0...</td>\n",
       "      <td>95</td>\n",
       "    </tr>\n",
       "    <tr>\n",
       "      <th>32882</th>\n",
       "      <td>204864</td>\n",
       "      <td>0425147622</td>\n",
       "      <td>0</td>\n",
       "      <td>The Body Farm</td>\n",
       "      <td>Patricia Daniels Cornwell</td>\n",
       "      <td>1995</td>\n",
       "      <td>Berkley Publishing Group</td>\n",
       "      <td>http://images.amazon.com/images/P/0425147622.0...</td>\n",
       "      <td>95</td>\n",
       "    </tr>\n",
       "    <tr>\n",
       "      <th>36812</th>\n",
       "      <td>147451</td>\n",
       "      <td>0446364193</td>\n",
       "      <td>0</td>\n",
       "      <td>Along Came a Spider (Alex Cross Novels)</td>\n",
       "      <td>James Patterson</td>\n",
       "      <td>1993</td>\n",
       "      <td>Warner Books</td>\n",
       "      <td>http://images.amazon.com/images/P/0446364193.0...</td>\n",
       "      <td>134</td>\n",
       "    </tr>\n",
       "    <tr>\n",
       "      <th>69104</th>\n",
       "      <td>73394</td>\n",
       "      <td>0064472272</td>\n",
       "      <td>0</td>\n",
       "      <td>Angus, Thongs and Full-Frontal Snogging: Confe...</td>\n",
       "      <td>Louise Rennison</td>\n",
       "      <td>2001</td>\n",
       "      <td>HarperTempest</td>\n",
       "      <td>http://images.amazon.com/images/P/0064472272.0...</td>\n",
       "      <td>53</td>\n",
       "    </tr>\n",
       "  </tbody>\n",
       "</table>\n",
       "</div>"
      ],
      "text/plain": [
       "        user-id        ISBN  rating  \\\n",
       "37075    150968  0446603309       0   \n",
       "7752     102967  0440241073       0   \n",
       "173604   107784  0446607711       0   \n",
       "58443    269566  0345303067       0   \n",
       "31463      8245  0385722206       7   \n",
       "86939    201017  0064471659       0   \n",
       "8049     145619  0446350982       0   \n",
       "30266    208406  0380727293       0   \n",
       "113671   106225  0385511612       0   \n",
       "77325     85426  0786881852       8   \n",
       "2459     208671  0316776963       0   \n",
       "185552    69355  067101420X       0   \n",
       "37551    114414  0446676098       0   \n",
       "43704    110912  0553580221       0   \n",
       "104245   242646  044023672X       0   \n",
       "3738     235392  0380710218       5   \n",
       "9651      81492  0515132020       0   \n",
       "32882    204864  0425147622       0   \n",
       "36812    147451  0446364193       0   \n",
       "69104     73394  0064472272       0   \n",
       "\n",
       "                                                    Title  \\\n",
       "37075                                         The Witness   \n",
       "7752                                          The Summons   \n",
       "173604                                   The Simple Truth   \n",
       "58443                                   2010: Odyssey Two   \n",
       "31463   Balzac and the Little Chinese Seamstress : A N...   \n",
       "86939                                     Harriet the Spy   \n",
       "8049                                    Presumed Innocent   \n",
       "30266                     Dr. Atkins' New Diet Revolution   \n",
       "113671                                          Bleachers   \n",
       "77325   Don't Sweat the Small Stuff and It's All Small...   \n",
       "2459                               Me Talk Pretty One Day   \n",
       "185552  Forever... : A Novel of Good and Evil, Love an...   \n",
       "37551                                        The Notebook   \n",
       "43704                                        False Memory   \n",
       "104245                                   Answered Prayers   \n",
       "3738                                           Postmortem   \n",
       "9651      Heaven and Earth (Three Sisters Island Trilogy)   \n",
       "32882                                       The Body Farm   \n",
       "36812             Along Came a Spider (Alex Cross Novels)   \n",
       "69104   Angus, Thongs and Full-Frontal Snogging: Confe...   \n",
       "\n",
       "                           Author  Year                           Publisher  \\\n",
       "37075                Sandra Brown  1996                        Warner Books   \n",
       "7752                 John Grisham  2002             Dell Publishing Company   \n",
       "173604             David Baldacci  1999                        Warner Books   \n",
       "58443            Arthur C. Clarke  1984                       Del Rey Books   \n",
       "31463                   DAI SIJIE  2002                              Anchor   \n",
       "86939             Louise Fitzhugh  1996                        HarperTrophy   \n",
       "8049                  Scott Turow  1988                        Warner Books   \n",
       "30266            Robert C. Atkins  1997                          Avon Books   \n",
       "113671               John Grisham  2003                           Doubleday   \n",
       "77325             Richard Carlson  1997                            Hyperion   \n",
       "2459                David Sedaris  2001                      Back Bay Books   \n",
       "185552              Jude Deveraux  2002                              Pocket   \n",
       "37551             Nicholas Sparks  1999                        Warner Books   \n",
       "43704              Dean R. Koontz  2000                        Bantam Books   \n",
       "104245             DANIELLE STEEL  2003                                Dell   \n",
       "3738    Patricia Daniels Cornwell  1993  Harper Mass Market Paperbacks (Mm)   \n",
       "9651                 Nora Roberts  2003                          Jove Books   \n",
       "32882   Patricia Daniels Cornwell  1995            Berkley Publishing Group   \n",
       "36812             James Patterson  1993                        Warner Books   \n",
       "69104             Louise Rennison  2001                       HarperTempest   \n",
       "\n",
       "                                                  img_url  num_of_rating  \n",
       "37075   http://images.amazon.com/images/P/0446603309.0...             55  \n",
       "7752    http://images.amazon.com/images/P/0440241073.0...            171  \n",
       "173604  http://images.amazon.com/images/P/0446607711.0...             85  \n",
       "58443   http://images.amazon.com/images/P/0345303067.0...             47  \n",
       "31463   http://images.amazon.com/images/P/0385722206.0...            111  \n",
       "86939   http://images.amazon.com/images/P/0064471659.0...             43  \n",
       "8049    http://images.amazon.com/images/P/0446350982.0...            149  \n",
       "30266   http://images.amazon.com/images/P/0380727293.0...             53  \n",
       "113671  http://images.amazon.com/images/P/0385511612.0...             53  \n",
       "77325   http://images.amazon.com/images/P/0786881852.0...             90  \n",
       "2459    http://images.amazon.com/images/P/0316776963.0...            146  \n",
       "185552  http://images.amazon.com/images/P/067101420X.0...             55  \n",
       "37551   http://images.amazon.com/images/P/0446676098.0...            241  \n",
       "43704   http://images.amazon.com/images/P/0553580221.0...             86  \n",
       "104245  http://images.amazon.com/images/P/044023672X.0...             41  \n",
       "3738    http://images.amazon.com/images/P/0380710218.0...             78  \n",
       "9651    http://images.amazon.com/images/P/0515132020.0...             95  \n",
       "32882   http://images.amazon.com/images/P/0425147622.0...             95  \n",
       "36812   http://images.amazon.com/images/P/0446364193.0...            134  \n",
       "69104   http://images.amazon.com/images/P/0064472272.0...             53  "
      ]
     },
     "execution_count": 41,
     "metadata": {},
     "output_type": "execute_result"
    }
   ],
   "source": [
    "final_rating.sample(20)"
   ]
  },
  {
   "cell_type": "code",
   "execution_count": 42,
   "id": "f1d346fa",
   "metadata": {},
   "outputs": [
    {
     "name": "stderr",
     "output_type": "stream",
     "text": [
      "C:\\Users\\Vikas\\AppData\\Local\\Temp\\ipykernel_13020\\2186837741.py:1: SettingWithCopyWarning: \n",
      "A value is trying to be set on a copy of a slice from a DataFrame\n",
      "\n",
      "See the caveats in the documentation: https://pandas.pydata.org/pandas-docs/stable/user_guide/indexing.html#returning-a-view-versus-a-copy\n",
      "  final_rating.drop_duplicates([\"user-id\",\"Title\"],inplace=True )\n"
     ]
    }
   ],
   "source": [
    "# deleting droop value \n",
    "final_rating.drop_duplicates([\"user-id\",\"Title\"],inplace=True )"
   ]
  },
  {
   "cell_type": "code",
   "execution_count": 43,
   "id": "327f11af",
   "metadata": {},
   "outputs": [
    {
     "data": {
      "text/plain": [
       "(74876, 9)"
      ]
     },
     "execution_count": 43,
     "metadata": {},
     "output_type": "execute_result"
    }
   ],
   "source": [
    "final_rating.shape"
   ]
  },
  {
   "cell_type": "markdown",
   "id": "071e47cb",
   "metadata": {},
   "source": [
    "# pivot table"
   ]
  },
  {
   "cell_type": "code",
   "execution_count": 44,
   "id": "3d5f0c7b",
   "metadata": {},
   "outputs": [],
   "source": [
    "book_pivot=final_rating.pivot_table(columns=\"user-id\",index=\"Title\",values=\"rating\")"
   ]
  },
  {
   "cell_type": "code",
   "execution_count": 45,
   "id": "34ad2ed7",
   "metadata": {},
   "outputs": [
    {
     "data": {
      "text/html": [
       "<div>\n",
       "<style scoped>\n",
       "    .dataframe tbody tr th:only-of-type {\n",
       "        vertical-align: middle;\n",
       "    }\n",
       "\n",
       "    .dataframe tbody tr th {\n",
       "        vertical-align: top;\n",
       "    }\n",
       "\n",
       "    .dataframe thead th {\n",
       "        text-align: right;\n",
       "    }\n",
       "</style>\n",
       "<table border=\"1\" class=\"dataframe\">\n",
       "  <thead>\n",
       "    <tr style=\"text-align: right;\">\n",
       "      <th>user-id</th>\n",
       "      <th>254</th>\n",
       "      <th>2276</th>\n",
       "      <th>2766</th>\n",
       "      <th>2977</th>\n",
       "      <th>3363</th>\n",
       "      <th>3757</th>\n",
       "      <th>4017</th>\n",
       "      <th>4385</th>\n",
       "      <th>6242</th>\n",
       "      <th>6251</th>\n",
       "      <th>...</th>\n",
       "      <th>274004</th>\n",
       "      <th>274061</th>\n",
       "      <th>274301</th>\n",
       "      <th>274308</th>\n",
       "      <th>274808</th>\n",
       "      <th>275970</th>\n",
       "      <th>277427</th>\n",
       "      <th>277478</th>\n",
       "      <th>277639</th>\n",
       "      <th>278418</th>\n",
       "    </tr>\n",
       "    <tr>\n",
       "      <th>Title</th>\n",
       "      <th></th>\n",
       "      <th></th>\n",
       "      <th></th>\n",
       "      <th></th>\n",
       "      <th></th>\n",
       "      <th></th>\n",
       "      <th></th>\n",
       "      <th></th>\n",
       "      <th></th>\n",
       "      <th></th>\n",
       "      <th></th>\n",
       "      <th></th>\n",
       "      <th></th>\n",
       "      <th></th>\n",
       "      <th></th>\n",
       "      <th></th>\n",
       "      <th></th>\n",
       "      <th></th>\n",
       "      <th></th>\n",
       "      <th></th>\n",
       "      <th></th>\n",
       "    </tr>\n",
       "  </thead>\n",
       "  <tbody>\n",
       "    <tr>\n",
       "      <th>1984</th>\n",
       "      <td>9.0</td>\n",
       "      <td>NaN</td>\n",
       "      <td>NaN</td>\n",
       "      <td>NaN</td>\n",
       "      <td>NaN</td>\n",
       "      <td>NaN</td>\n",
       "      <td>NaN</td>\n",
       "      <td>NaN</td>\n",
       "      <td>NaN</td>\n",
       "      <td>NaN</td>\n",
       "      <td>...</td>\n",
       "      <td>NaN</td>\n",
       "      <td>NaN</td>\n",
       "      <td>NaN</td>\n",
       "      <td>NaN</td>\n",
       "      <td>NaN</td>\n",
       "      <td>0.0</td>\n",
       "      <td>NaN</td>\n",
       "      <td>NaN</td>\n",
       "      <td>NaN</td>\n",
       "      <td>NaN</td>\n",
       "    </tr>\n",
       "    <tr>\n",
       "      <th>1st to Die: A Novel</th>\n",
       "      <td>NaN</td>\n",
       "      <td>NaN</td>\n",
       "      <td>NaN</td>\n",
       "      <td>NaN</td>\n",
       "      <td>NaN</td>\n",
       "      <td>NaN</td>\n",
       "      <td>NaN</td>\n",
       "      <td>NaN</td>\n",
       "      <td>NaN</td>\n",
       "      <td>NaN</td>\n",
       "      <td>...</td>\n",
       "      <td>NaN</td>\n",
       "      <td>NaN</td>\n",
       "      <td>NaN</td>\n",
       "      <td>NaN</td>\n",
       "      <td>NaN</td>\n",
       "      <td>NaN</td>\n",
       "      <td>NaN</td>\n",
       "      <td>NaN</td>\n",
       "      <td>NaN</td>\n",
       "      <td>NaN</td>\n",
       "    </tr>\n",
       "    <tr>\n",
       "      <th>2010: Odyssey Two</th>\n",
       "      <td>NaN</td>\n",
       "      <td>0.0</td>\n",
       "      <td>NaN</td>\n",
       "      <td>NaN</td>\n",
       "      <td>NaN</td>\n",
       "      <td>NaN</td>\n",
       "      <td>NaN</td>\n",
       "      <td>NaN</td>\n",
       "      <td>NaN</td>\n",
       "      <td>NaN</td>\n",
       "      <td>...</td>\n",
       "      <td>NaN</td>\n",
       "      <td>NaN</td>\n",
       "      <td>NaN</td>\n",
       "      <td>NaN</td>\n",
       "      <td>NaN</td>\n",
       "      <td>NaN</td>\n",
       "      <td>NaN</td>\n",
       "      <td>NaN</td>\n",
       "      <td>NaN</td>\n",
       "      <td>NaN</td>\n",
       "    </tr>\n",
       "  </tbody>\n",
       "</table>\n",
       "<p>3 rows × 889 columns</p>\n",
       "</div>"
      ],
      "text/plain": [
       "user-id              254     2276    2766    2977    3363    3757    4017    \\\n",
       "Title                                                                         \n",
       "1984                    9.0     NaN     NaN     NaN     NaN     NaN     NaN   \n",
       "1st to Die: A Novel     NaN     NaN     NaN     NaN     NaN     NaN     NaN   \n",
       "2010: Odyssey Two       NaN     0.0     NaN     NaN     NaN     NaN     NaN   \n",
       "\n",
       "user-id              4385    6242    6251    ...  274004  274061  274301  \\\n",
       "Title                                        ...                           \n",
       "1984                    NaN     NaN     NaN  ...     NaN     NaN     NaN   \n",
       "1st to Die: A Novel     NaN     NaN     NaN  ...     NaN     NaN     NaN   \n",
       "2010: Odyssey Two       NaN     NaN     NaN  ...     NaN     NaN     NaN   \n",
       "\n",
       "user-id              274308  274808  275970  277427  277478  277639  278418  \n",
       "Title                                                                        \n",
       "1984                    NaN     NaN     0.0     NaN     NaN     NaN     NaN  \n",
       "1st to Die: A Novel     NaN     NaN     NaN     NaN     NaN     NaN     NaN  \n",
       "2010: Odyssey Two       NaN     NaN     NaN     NaN     NaN     NaN     NaN  \n",
       "\n",
       "[3 rows x 889 columns]"
      ]
     },
     "execution_count": 45,
     "metadata": {},
     "output_type": "execute_result"
    }
   ],
   "source": [
    "book_pivot.head(3)"
   ]
  },
  {
   "cell_type": "code",
   "execution_count": 46,
   "id": "70f3669e",
   "metadata": {},
   "outputs": [
    {
     "data": {
      "text/plain": [
       "(1091, 889)"
      ]
     },
     "execution_count": 46,
     "metadata": {},
     "output_type": "execute_result"
    }
   ],
   "source": [
    "book_pivot.shape"
   ]
  },
  {
   "cell_type": "code",
   "execution_count": 47,
   "id": "bee635c2",
   "metadata": {},
   "outputs": [],
   "source": [
    "# filling all na value with 0\n",
    "book_pivot.fillna(0,inplace=True)"
   ]
  },
  {
   "cell_type": "markdown",
   "id": "f07c3df0",
   "metadata": {},
   "source": []
  },
  {
   "cell_type": "code",
   "execution_count": 48,
   "id": "b6b253a6",
   "metadata": {},
   "outputs": [
    {
     "data": {
      "text/html": [
       "<div>\n",
       "<style scoped>\n",
       "    .dataframe tbody tr th:only-of-type {\n",
       "        vertical-align: middle;\n",
       "    }\n",
       "\n",
       "    .dataframe tbody tr th {\n",
       "        vertical-align: top;\n",
       "    }\n",
       "\n",
       "    .dataframe thead th {\n",
       "        text-align: right;\n",
       "    }\n",
       "</style>\n",
       "<table border=\"1\" class=\"dataframe\">\n",
       "  <thead>\n",
       "    <tr style=\"text-align: right;\">\n",
       "      <th>user-id</th>\n",
       "      <th>254</th>\n",
       "      <th>2276</th>\n",
       "      <th>2766</th>\n",
       "      <th>2977</th>\n",
       "      <th>3363</th>\n",
       "      <th>3757</th>\n",
       "      <th>4017</th>\n",
       "      <th>4385</th>\n",
       "      <th>6242</th>\n",
       "      <th>6251</th>\n",
       "      <th>...</th>\n",
       "      <th>274004</th>\n",
       "      <th>274061</th>\n",
       "      <th>274301</th>\n",
       "      <th>274308</th>\n",
       "      <th>274808</th>\n",
       "      <th>275970</th>\n",
       "      <th>277427</th>\n",
       "      <th>277478</th>\n",
       "      <th>277639</th>\n",
       "      <th>278418</th>\n",
       "    </tr>\n",
       "    <tr>\n",
       "      <th>Title</th>\n",
       "      <th></th>\n",
       "      <th></th>\n",
       "      <th></th>\n",
       "      <th></th>\n",
       "      <th></th>\n",
       "      <th></th>\n",
       "      <th></th>\n",
       "      <th></th>\n",
       "      <th></th>\n",
       "      <th></th>\n",
       "      <th></th>\n",
       "      <th></th>\n",
       "      <th></th>\n",
       "      <th></th>\n",
       "      <th></th>\n",
       "      <th></th>\n",
       "      <th></th>\n",
       "      <th></th>\n",
       "      <th></th>\n",
       "      <th></th>\n",
       "      <th></th>\n",
       "    </tr>\n",
       "  </thead>\n",
       "  <tbody>\n",
       "    <tr>\n",
       "      <th>Second Child</th>\n",
       "      <td>0.0</td>\n",
       "      <td>0.0</td>\n",
       "      <td>0.0</td>\n",
       "      <td>0.0</td>\n",
       "      <td>0.0</td>\n",
       "      <td>0.0</td>\n",
       "      <td>0.0</td>\n",
       "      <td>0.0</td>\n",
       "      <td>0.0</td>\n",
       "      <td>0.0</td>\n",
       "      <td>...</td>\n",
       "      <td>0.0</td>\n",
       "      <td>0.0</td>\n",
       "      <td>0.0</td>\n",
       "      <td>0.0</td>\n",
       "      <td>0.0</td>\n",
       "      <td>0.0</td>\n",
       "      <td>0.0</td>\n",
       "      <td>0.0</td>\n",
       "      <td>0.0</td>\n",
       "      <td>0.0</td>\n",
       "    </tr>\n",
       "    <tr>\n",
       "      <th>It's Always Something</th>\n",
       "      <td>0.0</td>\n",
       "      <td>0.0</td>\n",
       "      <td>0.0</td>\n",
       "      <td>0.0</td>\n",
       "      <td>0.0</td>\n",
       "      <td>0.0</td>\n",
       "      <td>0.0</td>\n",
       "      <td>0.0</td>\n",
       "      <td>0.0</td>\n",
       "      <td>0.0</td>\n",
       "      <td>...</td>\n",
       "      <td>0.0</td>\n",
       "      <td>0.0</td>\n",
       "      <td>0.0</td>\n",
       "      <td>0.0</td>\n",
       "      <td>0.0</td>\n",
       "      <td>0.0</td>\n",
       "      <td>0.0</td>\n",
       "      <td>0.0</td>\n",
       "      <td>0.0</td>\n",
       "      <td>0.0</td>\n",
       "    </tr>\n",
       "    <tr>\n",
       "      <th>The List</th>\n",
       "      <td>0.0</td>\n",
       "      <td>0.0</td>\n",
       "      <td>0.0</td>\n",
       "      <td>0.0</td>\n",
       "      <td>0.0</td>\n",
       "      <td>0.0</td>\n",
       "      <td>0.0</td>\n",
       "      <td>0.0</td>\n",
       "      <td>0.0</td>\n",
       "      <td>0.0</td>\n",
       "      <td>...</td>\n",
       "      <td>0.0</td>\n",
       "      <td>0.0</td>\n",
       "      <td>0.0</td>\n",
       "      <td>0.0</td>\n",
       "      <td>0.0</td>\n",
       "      <td>0.0</td>\n",
       "      <td>0.0</td>\n",
       "      <td>0.0</td>\n",
       "      <td>0.0</td>\n",
       "      <td>0.0</td>\n",
       "    </tr>\n",
       "    <tr>\n",
       "      <th>Full Circle</th>\n",
       "      <td>0.0</td>\n",
       "      <td>0.0</td>\n",
       "      <td>0.0</td>\n",
       "      <td>0.0</td>\n",
       "      <td>0.0</td>\n",
       "      <td>0.0</td>\n",
       "      <td>0.0</td>\n",
       "      <td>0.0</td>\n",
       "      <td>0.0</td>\n",
       "      <td>0.0</td>\n",
       "      <td>...</td>\n",
       "      <td>0.0</td>\n",
       "      <td>0.0</td>\n",
       "      <td>0.0</td>\n",
       "      <td>0.0</td>\n",
       "      <td>0.0</td>\n",
       "      <td>0.0</td>\n",
       "      <td>0.0</td>\n",
       "      <td>0.0</td>\n",
       "      <td>0.0</td>\n",
       "      <td>0.0</td>\n",
       "    </tr>\n",
       "    <tr>\n",
       "      <th>Secret History</th>\n",
       "      <td>0.0</td>\n",
       "      <td>0.0</td>\n",
       "      <td>0.0</td>\n",
       "      <td>0.0</td>\n",
       "      <td>0.0</td>\n",
       "      <td>0.0</td>\n",
       "      <td>0.0</td>\n",
       "      <td>0.0</td>\n",
       "      <td>0.0</td>\n",
       "      <td>0.0</td>\n",
       "      <td>...</td>\n",
       "      <td>0.0</td>\n",
       "      <td>0.0</td>\n",
       "      <td>0.0</td>\n",
       "      <td>0.0</td>\n",
       "      <td>0.0</td>\n",
       "      <td>0.0</td>\n",
       "      <td>0.0</td>\n",
       "      <td>0.0</td>\n",
       "      <td>0.0</td>\n",
       "      <td>0.0</td>\n",
       "    </tr>\n",
       "    <tr>\n",
       "      <th>Portrait of a Killer: Jack the Ripper -- Case Closed</th>\n",
       "      <td>0.0</td>\n",
       "      <td>0.0</td>\n",
       "      <td>0.0</td>\n",
       "      <td>0.0</td>\n",
       "      <td>0.0</td>\n",
       "      <td>0.0</td>\n",
       "      <td>0.0</td>\n",
       "      <td>0.0</td>\n",
       "      <td>0.0</td>\n",
       "      <td>0.0</td>\n",
       "      <td>...</td>\n",
       "      <td>0.0</td>\n",
       "      <td>0.0</td>\n",
       "      <td>0.0</td>\n",
       "      <td>0.0</td>\n",
       "      <td>0.0</td>\n",
       "      <td>0.0</td>\n",
       "      <td>0.0</td>\n",
       "      <td>0.0</td>\n",
       "      <td>0.0</td>\n",
       "      <td>0.0</td>\n",
       "    </tr>\n",
       "    <tr>\n",
       "      <th>The Deep End of the Ocean (Oprah's Book Club (Hardcover))</th>\n",
       "      <td>0.0</td>\n",
       "      <td>0.0</td>\n",
       "      <td>0.0</td>\n",
       "      <td>0.0</td>\n",
       "      <td>0.0</td>\n",
       "      <td>0.0</td>\n",
       "      <td>0.0</td>\n",
       "      <td>0.0</td>\n",
       "      <td>0.0</td>\n",
       "      <td>0.0</td>\n",
       "      <td>...</td>\n",
       "      <td>0.0</td>\n",
       "      <td>0.0</td>\n",
       "      <td>0.0</td>\n",
       "      <td>0.0</td>\n",
       "      <td>0.0</td>\n",
       "      <td>0.0</td>\n",
       "      <td>0.0</td>\n",
       "      <td>0.0</td>\n",
       "      <td>0.0</td>\n",
       "      <td>0.0</td>\n",
       "    </tr>\n",
       "    <tr>\n",
       "      <th>Holding the Dream (Dream Trilogy)</th>\n",
       "      <td>0.0</td>\n",
       "      <td>0.0</td>\n",
       "      <td>0.0</td>\n",
       "      <td>0.0</td>\n",
       "      <td>0.0</td>\n",
       "      <td>0.0</td>\n",
       "      <td>0.0</td>\n",
       "      <td>0.0</td>\n",
       "      <td>0.0</td>\n",
       "      <td>0.0</td>\n",
       "      <td>...</td>\n",
       "      <td>0.0</td>\n",
       "      <td>0.0</td>\n",
       "      <td>0.0</td>\n",
       "      <td>0.0</td>\n",
       "      <td>0.0</td>\n",
       "      <td>0.0</td>\n",
       "      <td>0.0</td>\n",
       "      <td>0.0</td>\n",
       "      <td>0.0</td>\n",
       "      <td>0.0</td>\n",
       "    </tr>\n",
       "    <tr>\n",
       "      <th>Family Album</th>\n",
       "      <td>0.0</td>\n",
       "      <td>0.0</td>\n",
       "      <td>0.0</td>\n",
       "      <td>0.0</td>\n",
       "      <td>0.0</td>\n",
       "      <td>0.0</td>\n",
       "      <td>0.0</td>\n",
       "      <td>0.0</td>\n",
       "      <td>0.0</td>\n",
       "      <td>0.0</td>\n",
       "      <td>...</td>\n",
       "      <td>0.0</td>\n",
       "      <td>0.0</td>\n",
       "      <td>0.0</td>\n",
       "      <td>0.0</td>\n",
       "      <td>0.0</td>\n",
       "      <td>0.0</td>\n",
       "      <td>0.0</td>\n",
       "      <td>0.0</td>\n",
       "      <td>0.0</td>\n",
       "      <td>0.0</td>\n",
       "    </tr>\n",
       "    <tr>\n",
       "      <th>Full Speed (Janet Evanovich's Full Series)</th>\n",
       "      <td>0.0</td>\n",
       "      <td>0.0</td>\n",
       "      <td>0.0</td>\n",
       "      <td>0.0</td>\n",
       "      <td>0.0</td>\n",
       "      <td>0.0</td>\n",
       "      <td>0.0</td>\n",
       "      <td>0.0</td>\n",
       "      <td>0.0</td>\n",
       "      <td>0.0</td>\n",
       "      <td>...</td>\n",
       "      <td>0.0</td>\n",
       "      <td>0.0</td>\n",
       "      <td>0.0</td>\n",
       "      <td>0.0</td>\n",
       "      <td>0.0</td>\n",
       "      <td>0.0</td>\n",
       "      <td>0.0</td>\n",
       "      <td>0.0</td>\n",
       "      <td>0.0</td>\n",
       "      <td>0.0</td>\n",
       "    </tr>\n",
       "    <tr>\n",
       "      <th>Mr. Maybe</th>\n",
       "      <td>0.0</td>\n",
       "      <td>0.0</td>\n",
       "      <td>0.0</td>\n",
       "      <td>0.0</td>\n",
       "      <td>0.0</td>\n",
       "      <td>0.0</td>\n",
       "      <td>0.0</td>\n",
       "      <td>0.0</td>\n",
       "      <td>0.0</td>\n",
       "      <td>0.0</td>\n",
       "      <td>...</td>\n",
       "      <td>0.0</td>\n",
       "      <td>0.0</td>\n",
       "      <td>0.0</td>\n",
       "      <td>0.0</td>\n",
       "      <td>0.0</td>\n",
       "      <td>0.0</td>\n",
       "      <td>0.0</td>\n",
       "      <td>0.0</td>\n",
       "      <td>0.0</td>\n",
       "      <td>0.0</td>\n",
       "    </tr>\n",
       "    <tr>\n",
       "      <th>The Lost World</th>\n",
       "      <td>0.0</td>\n",
       "      <td>0.0</td>\n",
       "      <td>0.0</td>\n",
       "      <td>0.0</td>\n",
       "      <td>0.0</td>\n",
       "      <td>0.0</td>\n",
       "      <td>0.0</td>\n",
       "      <td>0.0</td>\n",
       "      <td>0.0</td>\n",
       "      <td>0.0</td>\n",
       "      <td>...</td>\n",
       "      <td>0.0</td>\n",
       "      <td>0.0</td>\n",
       "      <td>0.0</td>\n",
       "      <td>0.0</td>\n",
       "      <td>0.0</td>\n",
       "      <td>0.0</td>\n",
       "      <td>0.0</td>\n",
       "      <td>0.0</td>\n",
       "      <td>0.0</td>\n",
       "      <td>0.0</td>\n",
       "    </tr>\n",
       "  </tbody>\n",
       "</table>\n",
       "<p>12 rows × 889 columns</p>\n",
       "</div>"
      ],
      "text/plain": [
       "user-id                                             254     2276    2766    \\\n",
       "Title                                                                        \n",
       "Second Child                                           0.0     0.0     0.0   \n",
       "It's Always Something                                  0.0     0.0     0.0   \n",
       "The List                                               0.0     0.0     0.0   \n",
       "Full Circle                                            0.0     0.0     0.0   \n",
       "Secret History                                         0.0     0.0     0.0   \n",
       "Portrait of a Killer: Jack the Ripper -- Case C...     0.0     0.0     0.0   \n",
       "The Deep End of the Ocean (Oprah's Book Club (H...     0.0     0.0     0.0   \n",
       "Holding the Dream (Dream Trilogy)                      0.0     0.0     0.0   \n",
       "Family Album                                           0.0     0.0     0.0   \n",
       "Full Speed (Janet Evanovich's Full Series)             0.0     0.0     0.0   \n",
       "Mr. Maybe                                              0.0     0.0     0.0   \n",
       "The Lost World                                         0.0     0.0     0.0   \n",
       "\n",
       "user-id                                             2977    3363    3757    \\\n",
       "Title                                                                        \n",
       "Second Child                                           0.0     0.0     0.0   \n",
       "It's Always Something                                  0.0     0.0     0.0   \n",
       "The List                                               0.0     0.0     0.0   \n",
       "Full Circle                                            0.0     0.0     0.0   \n",
       "Secret History                                         0.0     0.0     0.0   \n",
       "Portrait of a Killer: Jack the Ripper -- Case C...     0.0     0.0     0.0   \n",
       "The Deep End of the Ocean (Oprah's Book Club (H...     0.0     0.0     0.0   \n",
       "Holding the Dream (Dream Trilogy)                      0.0     0.0     0.0   \n",
       "Family Album                                           0.0     0.0     0.0   \n",
       "Full Speed (Janet Evanovich's Full Series)             0.0     0.0     0.0   \n",
       "Mr. Maybe                                              0.0     0.0     0.0   \n",
       "The Lost World                                         0.0     0.0     0.0   \n",
       "\n",
       "user-id                                             4017    4385    6242    \\\n",
       "Title                                                                        \n",
       "Second Child                                           0.0     0.0     0.0   \n",
       "It's Always Something                                  0.0     0.0     0.0   \n",
       "The List                                               0.0     0.0     0.0   \n",
       "Full Circle                                            0.0     0.0     0.0   \n",
       "Secret History                                         0.0     0.0     0.0   \n",
       "Portrait of a Killer: Jack the Ripper -- Case C...     0.0     0.0     0.0   \n",
       "The Deep End of the Ocean (Oprah's Book Club (H...     0.0     0.0     0.0   \n",
       "Holding the Dream (Dream Trilogy)                      0.0     0.0     0.0   \n",
       "Family Album                                           0.0     0.0     0.0   \n",
       "Full Speed (Janet Evanovich's Full Series)             0.0     0.0     0.0   \n",
       "Mr. Maybe                                              0.0     0.0     0.0   \n",
       "The Lost World                                         0.0     0.0     0.0   \n",
       "\n",
       "user-id                                             6251    ...  274004  \\\n",
       "Title                                                       ...           \n",
       "Second Child                                           0.0  ...     0.0   \n",
       "It's Always Something                                  0.0  ...     0.0   \n",
       "The List                                               0.0  ...     0.0   \n",
       "Full Circle                                            0.0  ...     0.0   \n",
       "Secret History                                         0.0  ...     0.0   \n",
       "Portrait of a Killer: Jack the Ripper -- Case C...     0.0  ...     0.0   \n",
       "The Deep End of the Ocean (Oprah's Book Club (H...     0.0  ...     0.0   \n",
       "Holding the Dream (Dream Trilogy)                      0.0  ...     0.0   \n",
       "Family Album                                           0.0  ...     0.0   \n",
       "Full Speed (Janet Evanovich's Full Series)             0.0  ...     0.0   \n",
       "Mr. Maybe                                              0.0  ...     0.0   \n",
       "The Lost World                                         0.0  ...     0.0   \n",
       "\n",
       "user-id                                             274061  274301  274308  \\\n",
       "Title                                                                        \n",
       "Second Child                                           0.0     0.0     0.0   \n",
       "It's Always Something                                  0.0     0.0     0.0   \n",
       "The List                                               0.0     0.0     0.0   \n",
       "Full Circle                                            0.0     0.0     0.0   \n",
       "Secret History                                         0.0     0.0     0.0   \n",
       "Portrait of a Killer: Jack the Ripper -- Case C...     0.0     0.0     0.0   \n",
       "The Deep End of the Ocean (Oprah's Book Club (H...     0.0     0.0     0.0   \n",
       "Holding the Dream (Dream Trilogy)                      0.0     0.0     0.0   \n",
       "Family Album                                           0.0     0.0     0.0   \n",
       "Full Speed (Janet Evanovich's Full Series)             0.0     0.0     0.0   \n",
       "Mr. Maybe                                              0.0     0.0     0.0   \n",
       "The Lost World                                         0.0     0.0     0.0   \n",
       "\n",
       "user-id                                             274808  275970  277427  \\\n",
       "Title                                                                        \n",
       "Second Child                                           0.0     0.0     0.0   \n",
       "It's Always Something                                  0.0     0.0     0.0   \n",
       "The List                                               0.0     0.0     0.0   \n",
       "Full Circle                                            0.0     0.0     0.0   \n",
       "Secret History                                         0.0     0.0     0.0   \n",
       "Portrait of a Killer: Jack the Ripper -- Case C...     0.0     0.0     0.0   \n",
       "The Deep End of the Ocean (Oprah's Book Club (H...     0.0     0.0     0.0   \n",
       "Holding the Dream (Dream Trilogy)                      0.0     0.0     0.0   \n",
       "Family Album                                           0.0     0.0     0.0   \n",
       "Full Speed (Janet Evanovich's Full Series)             0.0     0.0     0.0   \n",
       "Mr. Maybe                                              0.0     0.0     0.0   \n",
       "The Lost World                                         0.0     0.0     0.0   \n",
       "\n",
       "user-id                                             277478  277639  278418  \n",
       "Title                                                                       \n",
       "Second Child                                           0.0     0.0     0.0  \n",
       "It's Always Something                                  0.0     0.0     0.0  \n",
       "The List                                               0.0     0.0     0.0  \n",
       "Full Circle                                            0.0     0.0     0.0  \n",
       "Secret History                                         0.0     0.0     0.0  \n",
       "Portrait of a Killer: Jack the Ripper -- Case C...     0.0     0.0     0.0  \n",
       "The Deep End of the Ocean (Oprah's Book Club (H...     0.0     0.0     0.0  \n",
       "Holding the Dream (Dream Trilogy)                      0.0     0.0     0.0  \n",
       "Family Album                                           0.0     0.0     0.0  \n",
       "Full Speed (Janet Evanovich's Full Series)             0.0     0.0     0.0  \n",
       "Mr. Maybe                                              0.0     0.0     0.0  \n",
       "The Lost World                                         0.0     0.0     0.0  \n",
       "\n",
       "[12 rows x 889 columns]"
      ]
     },
     "execution_count": 48,
     "metadata": {},
     "output_type": "execute_result"
    }
   ],
   "source": [
    "book_pivot.sample(12)"
   ]
  },
  {
   "cell_type": "markdown",
   "id": "9d8f2288",
   "metadata": {},
   "source": [
    "# model"
   ]
  },
  {
   "cell_type": "code",
   "execution_count": 49,
   "id": "7d160651",
   "metadata": {},
   "outputs": [],
   "source": [
    "from scipy.sparse import csr_matrix"
   ]
  },
  {
   "cell_type": "code",
   "execution_count": 50,
   "id": "a9022936",
   "metadata": {},
   "outputs": [],
   "source": [
    "book_sparse=csr_matrix(book_pivot)\n",
    "# csr_matrix igmore all zero value"
   ]
  },
  {
   "cell_type": "code",
   "execution_count": 51,
   "id": "b60ff2cd",
   "metadata": {},
   "outputs": [
    {
     "data": {
      "text/plain": [
       "<1091x889 sparse matrix of type '<class 'numpy.float64'>'\n",
       "\twith 18333 stored elements in Compressed Sparse Row format>"
      ]
     },
     "execution_count": 51,
     "metadata": {},
     "output_type": "execute_result"
    }
   ],
   "source": [
    "book_sparse"
   ]
  },
  {
   "cell_type": "code",
   "execution_count": 52,
   "id": "a29d91a6",
   "metadata": {},
   "outputs": [],
   "source": [
    "from sklearn.neighbors import NearestNeighbors\n",
    "model=NearestNeighbors(algorithm=\"brute\")\n"
   ]
  },
  {
   "cell_type": "code",
   "execution_count": 53,
   "id": "2a3da696",
   "metadata": {},
   "outputs": [
    {
     "data": {
      "text/html": [
       "<style>#sk-container-id-1 {color: black;background-color: white;}#sk-container-id-1 pre{padding: 0;}#sk-container-id-1 div.sk-toggleable {background-color: white;}#sk-container-id-1 label.sk-toggleable__label {cursor: pointer;display: block;width: 100%;margin-bottom: 0;padding: 0.3em;box-sizing: border-box;text-align: center;}#sk-container-id-1 label.sk-toggleable__label-arrow:before {content: \"▸\";float: left;margin-right: 0.25em;color: #696969;}#sk-container-id-1 label.sk-toggleable__label-arrow:hover:before {color: black;}#sk-container-id-1 div.sk-estimator:hover label.sk-toggleable__label-arrow:before {color: black;}#sk-container-id-1 div.sk-toggleable__content {max-height: 0;max-width: 0;overflow: hidden;text-align: left;background-color: #f0f8ff;}#sk-container-id-1 div.sk-toggleable__content pre {margin: 0.2em;color: black;border-radius: 0.25em;background-color: #f0f8ff;}#sk-container-id-1 input.sk-toggleable__control:checked~div.sk-toggleable__content {max-height: 200px;max-width: 100%;overflow: auto;}#sk-container-id-1 input.sk-toggleable__control:checked~label.sk-toggleable__label-arrow:before {content: \"▾\";}#sk-container-id-1 div.sk-estimator input.sk-toggleable__control:checked~label.sk-toggleable__label {background-color: #d4ebff;}#sk-container-id-1 div.sk-label input.sk-toggleable__control:checked~label.sk-toggleable__label {background-color: #d4ebff;}#sk-container-id-1 input.sk-hidden--visually {border: 0;clip: rect(1px 1px 1px 1px);clip: rect(1px, 1px, 1px, 1px);height: 1px;margin: -1px;overflow: hidden;padding: 0;position: absolute;width: 1px;}#sk-container-id-1 div.sk-estimator {font-family: monospace;background-color: #f0f8ff;border: 1px dotted black;border-radius: 0.25em;box-sizing: border-box;margin-bottom: 0.5em;}#sk-container-id-1 div.sk-estimator:hover {background-color: #d4ebff;}#sk-container-id-1 div.sk-parallel-item::after {content: \"\";width: 100%;border-bottom: 1px solid gray;flex-grow: 1;}#sk-container-id-1 div.sk-label:hover label.sk-toggleable__label {background-color: #d4ebff;}#sk-container-id-1 div.sk-serial::before {content: \"\";position: absolute;border-left: 1px solid gray;box-sizing: border-box;top: 0;bottom: 0;left: 50%;z-index: 0;}#sk-container-id-1 div.sk-serial {display: flex;flex-direction: column;align-items: center;background-color: white;padding-right: 0.2em;padding-left: 0.2em;position: relative;}#sk-container-id-1 div.sk-item {position: relative;z-index: 1;}#sk-container-id-1 div.sk-parallel {display: flex;align-items: stretch;justify-content: center;background-color: white;position: relative;}#sk-container-id-1 div.sk-item::before, #sk-container-id-1 div.sk-parallel-item::before {content: \"\";position: absolute;border-left: 1px solid gray;box-sizing: border-box;top: 0;bottom: 0;left: 50%;z-index: -1;}#sk-container-id-1 div.sk-parallel-item {display: flex;flex-direction: column;z-index: 1;position: relative;background-color: white;}#sk-container-id-1 div.sk-parallel-item:first-child::after {align-self: flex-end;width: 50%;}#sk-container-id-1 div.sk-parallel-item:last-child::after {align-self: flex-start;width: 50%;}#sk-container-id-1 div.sk-parallel-item:only-child::after {width: 0;}#sk-container-id-1 div.sk-dashed-wrapped {border: 1px dashed gray;margin: 0 0.4em 0.5em 0.4em;box-sizing: border-box;padding-bottom: 0.4em;background-color: white;}#sk-container-id-1 div.sk-label label {font-family: monospace;font-weight: bold;display: inline-block;line-height: 1.2em;}#sk-container-id-1 div.sk-label-container {text-align: center;}#sk-container-id-1 div.sk-container {/* jupyter's `normalize.less` sets `[hidden] { display: none; }` but bootstrap.min.css set `[hidden] { display: none !important; }` so we also need the `!important` here to be able to override the default hidden behavior on the sphinx rendered scikit-learn.org. See: https://github.com/scikit-learn/scikit-learn/issues/21755 */display: inline-block !important;position: relative;}#sk-container-id-1 div.sk-text-repr-fallback {display: none;}</style><div id=\"sk-container-id-1\" class=\"sk-top-container\"><div class=\"sk-text-repr-fallback\"><pre>NearestNeighbors(algorithm=&#x27;brute&#x27;)</pre><b>In a Jupyter environment, please rerun this cell to show the HTML representation or trust the notebook. <br />On GitHub, the HTML representation is unable to render, please try loading this page with nbviewer.org.</b></div><div class=\"sk-container\" hidden><div class=\"sk-item\"><div class=\"sk-estimator sk-toggleable\"><input class=\"sk-toggleable__control sk-hidden--visually\" id=\"sk-estimator-id-1\" type=\"checkbox\" checked><label for=\"sk-estimator-id-1\" class=\"sk-toggleable__label sk-toggleable__label-arrow\">NearestNeighbors</label><div class=\"sk-toggleable__content\"><pre>NearestNeighbors(algorithm=&#x27;brute&#x27;)</pre></div></div></div></div></div>"
      ],
      "text/plain": [
       "NearestNeighbors(algorithm='brute')"
      ]
     },
     "execution_count": 53,
     "metadata": {},
     "output_type": "execute_result"
    }
   ],
   "source": [
    "model.fit(book_sparse)        # passing book sparse because it contain non-zero value "
   ]
  },
  {
   "cell_type": "code",
   "execution_count": 54,
   "id": "10d2efa6",
   "metadata": {},
   "outputs": [],
   "source": [
    "distance,suggestion=model.kneighbors(book_pivot.iloc[2,:].values.reshape(1,-1),n_neighbors=6)"
   ]
  },
  {
   "cell_type": "code",
   "execution_count": 55,
   "id": "21ed2f98",
   "metadata": {},
   "outputs": [
    {
     "data": {
      "text/plain": [
       "array([[ 0.        , 23.9582971 , 24.12467616, 24.12467616, 24.69817807,\n",
       "        24.91987159]])"
      ]
     },
     "execution_count": 55,
     "metadata": {},
     "output_type": "execute_result"
    }
   ],
   "source": [
    "distance"
   ]
  },
  {
   "cell_type": "code",
   "execution_count": 56,
   "id": "5093aa25",
   "metadata": {},
   "outputs": [
    {
     "data": {
      "text/plain": [
       "array([[   2,  526,  295, 1014,  535,  365]], dtype=int64)"
      ]
     },
     "execution_count": 56,
     "metadata": {},
     "output_type": "execute_result"
    }
   ],
   "source": [
    "suggestion"
   ]
  },
  {
   "cell_type": "code",
   "execution_count": 57,
   "id": "194edcfe",
   "metadata": {},
   "outputs": [
    {
     "name": "stdout",
     "output_type": "stream",
     "text": [
      "Index(['2010: Odyssey Two', 'No Safe Place', 'Fortune's Hand',\n",
      "       'Tom Clancy's Op-Center: Games of State (Tom Clancy's Op Center (Paperback))',\n",
      "       'On Wings of Eagles', 'High Tide'],\n",
      "      dtype='object', name='Title')\n"
     ]
    }
   ],
   "source": [
    "for i in range(len(suggestion)):\n",
    "    print(book_pivot.index[suggestion[i]])"
   ]
  },
  {
   "cell_type": "code",
   "execution_count": 58,
   "id": "58285400",
   "metadata": {},
   "outputs": [],
   "source": [
    "# book_names=book_pivot.index"
   ]
  },
  {
   "cell_type": "markdown",
   "id": "1759553e",
   "metadata": {},
   "source": [
    "# recommend"
   ]
  },
  {
   "cell_type": "code",
   "execution_count": 77,
   "id": "c8eb9957",
   "metadata": {},
   "outputs": [],
   "source": [
    "def recommend_book(book_name):\n",
    "    book_id=np.where(book_pivot.index==book_name)[0][0]\n",
    "    distance,suggestion=model.kneighbors(book_pivot.iloc[book_id,:].values.reshape(1,-1),n_neighbors=6)\n",
    "    for i in range(len(suggestion)):\n",
    "        book=book_pivot.index[suggestion[i]]\n",
    "        for j in book:\n",
    "            print(j)"
   ]
  },
  {
   "cell_type": "code",
   "execution_count": 82,
   "id": "8ae418a3",
   "metadata": {},
   "outputs": [
    {
     "name": "stdout",
     "output_type": "stream",
     "text": [
      "Heaven and Earth (Three Sisters Island Trilogy)\n",
      "The Reef\n",
      "Considering Kate (The Stanislaskis) (Silhouette Special Edition)\n",
      "Portrait in Death\n",
      "Table For Two\n",
      "Imitation in Death (Eve Dallas Mysteries (Paperback))\n"
     ]
    }
   ],
   "source": [
    "book_name=\"Heaven and Earth (Three Sisters Island Trilogy)\"\n",
    "recommend_book(book_name)"
   ]
  },
  {
   "cell_type": "code",
   "execution_count": null,
   "id": "11bb9102",
   "metadata": {},
   "outputs": [],
   "source": []
  },
  {
   "cell_type": "code",
   "execution_count": null,
   "id": "d9067213",
   "metadata": {},
   "outputs": [],
   "source": []
  },
  {
   "cell_type": "code",
   "execution_count": null,
   "id": "466432a1",
   "metadata": {},
   "outputs": [],
   "source": []
  },
  {
   "cell_type": "code",
   "execution_count": null,
   "id": "fd7e45fb",
   "metadata": {},
   "outputs": [],
   "source": []
  }
 ],
 "metadata": {
  "kernelspec": {
   "display_name": "Python 3 (ipykernel)",
   "language": "python",
   "name": "python3"
  },
  "language_info": {
   "codemirror_mode": {
    "name": "ipython",
    "version": 3
   },
   "file_extension": ".py",
   "mimetype": "text/x-python",
   "name": "python",
   "nbconvert_exporter": "python",
   "pygments_lexer": "ipython3",
   "version": "3.11.0"
  },
  "varInspector": {
   "cols": {
    "lenName": 16,
    "lenType": 16,
    "lenVar": 40
   },
   "kernels_config": {
    "python": {
     "delete_cmd_postfix": "",
     "delete_cmd_prefix": "del ",
     "library": "var_list.py",
     "varRefreshCmd": "print(var_dic_list())"
    },
    "r": {
     "delete_cmd_postfix": ") ",
     "delete_cmd_prefix": "rm(",
     "library": "var_list.r",
     "varRefreshCmd": "cat(var_dic_list()) "
    }
   },
   "types_to_exclude": [
    "module",
    "function",
    "builtin_function_or_method",
    "instance",
    "_Feature"
   ],
   "window_display": false
  }
 },
 "nbformat": 4,
 "nbformat_minor": 5
}
